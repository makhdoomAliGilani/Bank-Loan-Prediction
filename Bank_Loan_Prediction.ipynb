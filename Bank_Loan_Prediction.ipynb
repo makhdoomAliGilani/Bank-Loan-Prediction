{
  "nbformat": 4,
  "nbformat_minor": 0,
  "metadata": {
    "kernelspec": {
      "display_name": "Python 3",
      "language": "python",
      "name": "python3"
    },
    "language_info": {
      "codemirror_mode": {
        "name": "ipython",
        "version": 3
      },
      "file_extension": ".py",
      "mimetype": "text/x-python",
      "name": "python",
      "nbconvert_exporter": "python",
      "pygments_lexer": "ipython3",
      "version": "3.7.6"
    },
    "colab": {
      "name": "Bank-Loan-Prediction.ipynb",
      "provenance": [],
      "collapsed_sections": [
        "waZaUmdKDayO",
        "Nlla6eTMDay9",
        "UDocSj7qDa0g"
      ],
      "include_colab_link": true
    }
  },
  "cells": [
    {
      "cell_type": "markdown",
      "metadata": {
        "id": "view-in-github",
        "colab_type": "text"
      },
      "source": [
        "<a href=\"https://colab.research.google.com/github/makhdoomAliGilani/Bank-Loan-Prediction/blob/master/Bank_Loan_Prediction.ipynb\" target=\"_parent\"><img src=\"https://colab.research.google.com/assets/colab-badge.svg\" alt=\"Open In Colab\"/></a>"
      ]
    },
    {
      "cell_type": "markdown",
      "metadata": {
        "id": "Dy9cwHU4DawM",
        "colab_type": "text"
      },
      "source": [
        "# **Loan prediction for Banks**\n",
        "\n",
        "training the model on loan default data set provided by lendingClub. the model will be able to predict the potential clients that whom banks can give loan. thus minimizing the risk for loss.\n",
        "---------------------------------\n",
        "Algorithms used:\n",
        "1. Logistic regrression\n",
        "2. Random Forest\n",
        "--------------------------------- \n",
        "In this code I have tried to done:\n",
        "1. Exploratory Data Analysis\n",
        "2. Data Cleaning:\n",
        "    \n",
        "Then in later code section is \n",
        "1. Model Training and evaluation.\n",
        "2. prediction"
      ]
    },
    {
      "cell_type": "code",
      "metadata": {
        "id": "o-g0jP51EFwV",
        "colab_type": "code",
        "colab": {
          "base_uri": "https://localhost:8080/",
          "height": 126
        },
        "outputId": "a2aa556b-c4f4-49ba-c2f9-241b71c31c73"
      },
      "source": [
        "from google.colab import drive\n",
        "drive.mount('/content/drive')"
      ],
      "execution_count": null,
      "outputs": [
        {
          "output_type": "stream",
          "text": [
            "Go to this URL in a browser: https://accounts.google.com/o/oauth2/auth?client_id=947318989803-6bn6qk8qdgf4n4g3pfee6491hc0brc4i.apps.googleusercontent.com&redirect_uri=urn%3aietf%3awg%3aoauth%3a2.0%3aoob&scope=email%20https%3a%2f%2fwww.googleapis.com%2fauth%2fdocs.test%20https%3a%2f%2fwww.googleapis.com%2fauth%2fdrive%20https%3a%2f%2fwww.googleapis.com%2fauth%2fdrive.photos.readonly%20https%3a%2f%2fwww.googleapis.com%2fauth%2fpeopleapi.readonly&response_type=code\n",
            "\n",
            "Enter your authorization code:\n",
            "··········\n",
            "Mounted at /content/drive\n"
          ],
          "name": "stdout"
        }
      ]
    },
    {
      "cell_type": "code",
      "metadata": {
        "ExecuteTime": {
          "end_time": "2019-01-26T14:22:24.975672Z",
          "start_time": "2019-01-26T14:22:23.840665Z"
        },
        "id": "PD817akXDawN",
        "colab_type": "code",
        "colab": {
          "base_uri": "https://localhost:8080/",
          "height": 72
        },
        "outputId": "9795a899-6c7f-4057-d984-b5d011d93ded"
      },
      "source": [
        "import numpy as np\n",
        "import pandas as pd\n",
        "import matplotlib.pyplot as plt\n",
        "import seaborn as sns\n",
        "from scipy.special import boxcox1p        \n",
        "%matplotlib inline"
      ],
      "execution_count": null,
      "outputs": [
        {
          "output_type": "stream",
          "text": [
            "/usr/local/lib/python3.6/dist-packages/statsmodels/tools/_testing.py:19: FutureWarning: pandas.util.testing is deprecated. Use the functions in the public API at pandas.testing instead.\n",
            "  import pandas.util.testing as tm\n"
          ],
          "name": "stderr"
        }
      ]
    },
    {
      "cell_type": "code",
      "metadata": {
        "ExecuteTime": {
          "end_time": "2019-01-26T14:22:24.980637Z",
          "start_time": "2019-01-26T14:22:24.977648Z"
        },
        "id": "TjqqSvZgDawR",
        "colab_type": "code",
        "colab": {}
      },
      "source": [
        "import warnings\n",
        "warnings.filterwarnings('ignore')"
      ],
      "execution_count": null,
      "outputs": []
    },
    {
      "cell_type": "code",
      "metadata": {
        "ExecuteTime": {
          "end_time": "2019-01-26T14:22:25.127590Z",
          "start_time": "2019-01-26T14:22:24.983608Z"
        },
        "id": "NHDWYyn8DawU",
        "colab_type": "code",
        "colab": {}
      },
      "source": [
        "pd.set_option('max_colwidth',500)"
      ],
      "execution_count": null,
      "outputs": []
    },
    {
      "cell_type": "code",
      "metadata": {
        "ExecuteTime": {
          "end_time": "2019-01-26T14:22:34.897349Z",
          "start_time": "2019-01-26T14:22:25.129589Z"
        },
        "id": "BtZLiU5gDawW",
        "colab_type": "code",
        "colab": {}
      },
      "source": [
        "data=pd.read_csv('/content/drive/My Drive/DM Project - loan prediction for Banks/loan_data.csv')"
      ],
      "execution_count": null,
      "outputs": []
    },
    {
      "cell_type": "code",
      "metadata": {
        "ExecuteTime": {
          "end_time": "2019-01-26T14:22:34.904322Z",
          "start_time": "2019-01-26T14:22:34.900334Z"
        },
        "scrolled": true,
        "id": "eAnnNsnyDawZ",
        "colab_type": "code",
        "colab": {
          "base_uri": "https://localhost:8080/",
          "height": 1000
        },
        "outputId": "3a811046-c1ae-4ea0-8917-9ada87ba61d7"
      },
      "source": [
        "data.info()"
      ],
      "execution_count": null,
      "outputs": [
        {
          "output_type": "stream",
          "text": [
            "<class 'pandas.core.frame.DataFrame'>\n",
            "RangeIndex: 42538 entries, 0 to 42537\n",
            "Data columns (total 52 columns):\n",
            " #   Column                      Non-Null Count  Dtype  \n",
            "---  ------                      --------------  -----  \n",
            " 0   id                          42538 non-null  object \n",
            " 1   member_id                   42535 non-null  float64\n",
            " 2   loan_amnt                   42535 non-null  float64\n",
            " 3   funded_amnt                 42535 non-null  float64\n",
            " 4   funded_amnt_inv             42535 non-null  float64\n",
            " 5   term                        42535 non-null  object \n",
            " 6   int_rate                    42535 non-null  object \n",
            " 7   installment                 42535 non-null  float64\n",
            " 8   grade                       42535 non-null  object \n",
            " 9   sub_grade                   42535 non-null  object \n",
            " 10  emp_title                   39909 non-null  object \n",
            " 11  emp_length                  41423 non-null  object \n",
            " 12  home_ownership              42535 non-null  object \n",
            " 13  annual_inc                  42531 non-null  float64\n",
            " 14  verification_status         42535 non-null  object \n",
            " 15  issue_d                     42535 non-null  object \n",
            " 16  loan_status                 42535 non-null  object \n",
            " 17  pymnt_plan                  42535 non-null  object \n",
            " 18  purpose                     42535 non-null  object \n",
            " 19  title                       42522 non-null  object \n",
            " 20  zip_code                    42535 non-null  object \n",
            " 21  addr_state                  42535 non-null  object \n",
            " 22  dti                         42535 non-null  float64\n",
            " 23  delinq_2yrs                 42506 non-null  float64\n",
            " 24  earliest_cr_line            42506 non-null  object \n",
            " 25  inq_last_6mths              42506 non-null  float64\n",
            " 26  open_acc                    42506 non-null  float64\n",
            " 27  pub_rec                     42506 non-null  float64\n",
            " 28  revol_bal                   42535 non-null  float64\n",
            " 29  revol_util                  42445 non-null  object \n",
            " 30  total_acc                   42506 non-null  float64\n",
            " 31  initial_list_status         42535 non-null  object \n",
            " 32  out_prncp                   42535 non-null  float64\n",
            " 33  out_prncp_inv               42535 non-null  float64\n",
            " 34  total_pymnt                 42535 non-null  float64\n",
            " 35  total_pymnt_inv             42535 non-null  float64\n",
            " 36  total_rec_prncp             42535 non-null  float64\n",
            " 37  total_rec_int               42535 non-null  float64\n",
            " 38  total_rec_late_fee          42535 non-null  float64\n",
            " 39  recoveries                  42535 non-null  float64\n",
            " 40  collection_recovery_fee     42535 non-null  float64\n",
            " 41  last_pymnt_d                42452 non-null  object \n",
            " 42  last_pymnt_amnt             42535 non-null  float64\n",
            " 43  last_credit_pull_d          42531 non-null  object \n",
            " 44  collections_12_mths_ex_med  42390 non-null  float64\n",
            " 45  policy_code                 42535 non-null  float64\n",
            " 46  application_type            42535 non-null  object \n",
            " 47  acc_now_delinq              42506 non-null  float64\n",
            " 48  chargeoff_within_12_mths    42390 non-null  float64\n",
            " 49  delinq_amnt                 42506 non-null  float64\n",
            " 50  pub_rec_bankruptcies        41170 non-null  float64\n",
            " 51  tax_liens                   42430 non-null  float64\n",
            "dtypes: float64(30), object(22)\n",
            "memory usage: 16.9+ MB\n"
          ],
          "name": "stdout"
        }
      ]
    },
    {
      "cell_type": "markdown",
      "metadata": {
        "id": "8aYFk5wmDawc",
        "colab_type": "text"
      },
      "source": [
        "Dataset has 74 columns including the output columns 'loan_status'.\n",
        "\n",
        "I created a dataframe from data dictionary so that evaluating each column will be easier. This dataframe shows feature name, decription, first value, data type and number of null values."
      ]
    },
    {
      "cell_type": "code",
      "metadata": {
        "ExecuteTime": {
          "end_time": "2019-01-26T14:22:35.070622Z",
          "start_time": "2019-01-26T14:22:34.907317Z"
        },
        "id": "7Vc5Wf3JDawd",
        "colab_type": "code",
        "colab": {}
      },
      "source": [
        "data_dict=pd.read_excel('/content/drive/My Drive/DM Project - loan prediction for Banks/LCDataDictionary.xlsx',sheet_name='LoanStats')"
      ],
      "execution_count": null,
      "outputs": []
    },
    {
      "cell_type": "code",
      "metadata": {
        "ExecuteTime": {
          "end_time": "2019-01-26T14:22:35.158814Z",
          "start_time": "2019-01-26T14:22:35.072596Z"
        },
        "id": "_vV3f6KmDawf",
        "colab_type": "code",
        "colab": {
          "base_uri": "https://localhost:8080/",
          "height": 194
        },
        "outputId": "7679e7cc-ab23-4575-d928-569cef033874"
      },
      "source": [
        "data_dict.head()"
      ],
      "execution_count": null,
      "outputs": [
        {
          "output_type": "execute_result",
          "data": {
            "text/html": [
              "<div>\n",
              "<style scoped>\n",
              "    .dataframe tbody tr th:only-of-type {\n",
              "        vertical-align: middle;\n",
              "    }\n",
              "\n",
              "    .dataframe tbody tr th {\n",
              "        vertical-align: top;\n",
              "    }\n",
              "\n",
              "    .dataframe thead th {\n",
              "        text-align: right;\n",
              "    }\n",
              "</style>\n",
              "<table border=\"1\" class=\"dataframe\">\n",
              "  <thead>\n",
              "    <tr style=\"text-align: right;\">\n",
              "      <th></th>\n",
              "      <th>LoanStatNew</th>\n",
              "      <th>Description</th>\n",
              "    </tr>\n",
              "  </thead>\n",
              "  <tbody>\n",
              "    <tr>\n",
              "      <th>0</th>\n",
              "      <td>acc_now_delinq</td>\n",
              "      <td>The number of accounts on which the borrower is now delinquent.</td>\n",
              "    </tr>\n",
              "    <tr>\n",
              "      <th>1</th>\n",
              "      <td>acc_open_past_24mths</td>\n",
              "      <td>Number of trades opened in past 24 months.</td>\n",
              "    </tr>\n",
              "    <tr>\n",
              "      <th>2</th>\n",
              "      <td>addr_state</td>\n",
              "      <td>The state provided by the borrower in the loan application</td>\n",
              "    </tr>\n",
              "    <tr>\n",
              "      <th>3</th>\n",
              "      <td>all_util</td>\n",
              "      <td>Balance to credit limit on all trades</td>\n",
              "    </tr>\n",
              "    <tr>\n",
              "      <th>4</th>\n",
              "      <td>annual_inc</td>\n",
              "      <td>The self-reported annual income provided by the borrower during registration.</td>\n",
              "    </tr>\n",
              "  </tbody>\n",
              "</table>\n",
              "</div>"
            ],
            "text/plain": [
              "            LoanStatNew                                                                    Description\n",
              "0        acc_now_delinq                The number of accounts on which the borrower is now delinquent.\n",
              "1  acc_open_past_24mths                                     Number of trades opened in past 24 months.\n",
              "2            addr_state                     The state provided by the borrower in the loan application\n",
              "3              all_util                                          Balance to credit limit on all trades\n",
              "4            annual_inc  The self-reported annual income provided by the borrower during registration."
            ]
          },
          "metadata": {
            "tags": []
          },
          "execution_count": 10
        }
      ]
    },
    {
      "cell_type": "code",
      "metadata": {
        "ExecuteTime": {
          "end_time": "2019-01-26T14:22:35.342610Z",
          "start_time": "2019-01-26T14:22:35.160781Z"
        },
        "id": "c4roWc9wDawj",
        "colab_type": "code",
        "colab": {}
      },
      "source": [
        "data_dtypes=pd.DataFrame(data.dtypes,columns=['dtype'])\n",
        "data_dtypes.reset_index(inplace=True)\n",
        "data_dtypes.columns=['LoanStatNew', 'dtype']\n",
        "data_dtypes['first value'] = data.loc[0].values"
      ],
      "execution_count": null,
      "outputs": []
    },
    {
      "cell_type": "code",
      "metadata": {
        "ExecuteTime": {
          "end_time": "2019-01-26T14:22:35.440066Z",
          "start_time": "2019-01-26T14:22:35.343569Z"
        },
        "id": "MPUnpwwKDawm",
        "colab_type": "code",
        "colab": {
          "base_uri": "https://localhost:8080/",
          "height": 194
        },
        "outputId": "469209af-4e2f-42a9-eaaa-37f1af2595e5"
      },
      "source": [
        "data_dtypes.head()"
      ],
      "execution_count": null,
      "outputs": [
        {
          "output_type": "execute_result",
          "data": {
            "text/html": [
              "<div>\n",
              "<style scoped>\n",
              "    .dataframe tbody tr th:only-of-type {\n",
              "        vertical-align: middle;\n",
              "    }\n",
              "\n",
              "    .dataframe tbody tr th {\n",
              "        vertical-align: top;\n",
              "    }\n",
              "\n",
              "    .dataframe thead th {\n",
              "        text-align: right;\n",
              "    }\n",
              "</style>\n",
              "<table border=\"1\" class=\"dataframe\">\n",
              "  <thead>\n",
              "    <tr style=\"text-align: right;\">\n",
              "      <th></th>\n",
              "      <th>LoanStatNew</th>\n",
              "      <th>dtype</th>\n",
              "      <th>first value</th>\n",
              "    </tr>\n",
              "  </thead>\n",
              "  <tbody>\n",
              "    <tr>\n",
              "      <th>0</th>\n",
              "      <td>id</td>\n",
              "      <td>object</td>\n",
              "      <td>1077501</td>\n",
              "    </tr>\n",
              "    <tr>\n",
              "      <th>1</th>\n",
              "      <td>member_id</td>\n",
              "      <td>float64</td>\n",
              "      <td>1.2966e+06</td>\n",
              "    </tr>\n",
              "    <tr>\n",
              "      <th>2</th>\n",
              "      <td>loan_amnt</td>\n",
              "      <td>float64</td>\n",
              "      <td>5000</td>\n",
              "    </tr>\n",
              "    <tr>\n",
              "      <th>3</th>\n",
              "      <td>funded_amnt</td>\n",
              "      <td>float64</td>\n",
              "      <td>5000</td>\n",
              "    </tr>\n",
              "    <tr>\n",
              "      <th>4</th>\n",
              "      <td>funded_amnt_inv</td>\n",
              "      <td>float64</td>\n",
              "      <td>4975</td>\n",
              "    </tr>\n",
              "  </tbody>\n",
              "</table>\n",
              "</div>"
            ],
            "text/plain": [
              "       LoanStatNew    dtype first value\n",
              "0               id   object     1077501\n",
              "1        member_id  float64  1.2966e+06\n",
              "2        loan_amnt  float64        5000\n",
              "3      funded_amnt  float64        5000\n",
              "4  funded_amnt_inv  float64        4975"
            ]
          },
          "metadata": {
            "tags": []
          },
          "execution_count": 10
        }
      ]
    },
    {
      "cell_type": "code",
      "metadata": {
        "ExecuteTime": {
          "end_time": "2019-01-26T14:22:35.596147Z",
          "start_time": "2019-01-26T14:22:35.442035Z"
        },
        "id": "Zyuwg5e3Dawo",
        "colab_type": "code",
        "colab": {}
      },
      "source": [
        "data_col=data_dtypes.merge(data_dict, on='LoanStatNew',how='left')"
      ],
      "execution_count": null,
      "outputs": []
    },
    {
      "cell_type": "code",
      "metadata": {
        "ExecuteTime": {
          "end_time": "2019-01-26T14:22:35.773494Z",
          "start_time": "2019-01-26T14:22:35.598773Z"
        },
        "id": "J4o3LHMhDawr",
        "colab_type": "code",
        "colab": {
          "base_uri": "https://localhost:8080/",
          "height": 106
        },
        "outputId": "a5f7147c-4338-433a-fcb7-966daaf4a4d2"
      },
      "source": [
        "data_col.head(2)"
      ],
      "execution_count": null,
      "outputs": [
        {
          "output_type": "execute_result",
          "data": {
            "text/html": [
              "<div>\n",
              "<style scoped>\n",
              "    .dataframe tbody tr th:only-of-type {\n",
              "        vertical-align: middle;\n",
              "    }\n",
              "\n",
              "    .dataframe tbody tr th {\n",
              "        vertical-align: top;\n",
              "    }\n",
              "\n",
              "    .dataframe thead th {\n",
              "        text-align: right;\n",
              "    }\n",
              "</style>\n",
              "<table border=\"1\" class=\"dataframe\">\n",
              "  <thead>\n",
              "    <tr style=\"text-align: right;\">\n",
              "      <th></th>\n",
              "      <th>LoanStatNew</th>\n",
              "      <th>dtype</th>\n",
              "      <th>first value</th>\n",
              "      <th>Description</th>\n",
              "    </tr>\n",
              "  </thead>\n",
              "  <tbody>\n",
              "    <tr>\n",
              "      <th>0</th>\n",
              "      <td>id</td>\n",
              "      <td>object</td>\n",
              "      <td>1077501</td>\n",
              "      <td>A unique LC assigned ID for the loan listing.</td>\n",
              "    </tr>\n",
              "    <tr>\n",
              "      <th>1</th>\n",
              "      <td>member_id</td>\n",
              "      <td>float64</td>\n",
              "      <td>1.2966e+06</td>\n",
              "      <td>A unique LC assigned Id for the borrower member.</td>\n",
              "    </tr>\n",
              "  </tbody>\n",
              "</table>\n",
              "</div>"
            ],
            "text/plain": [
              "  LoanStatNew  ...                                       Description\n",
              "0          id  ...     A unique LC assigned ID for the loan listing.\n",
              "1   member_id  ...  A unique LC assigned Id for the borrower member.\n",
              "\n",
              "[2 rows x 4 columns]"
            ]
          },
          "metadata": {
            "tags": []
          },
          "execution_count": 12
        }
      ]
    },
    {
      "cell_type": "code",
      "metadata": {
        "ExecuteTime": {
          "end_time": "2019-01-26T14:22:46.922998Z",
          "start_time": "2019-01-26T14:22:35.775491Z"
        },
        "id": "R4Q8faNjDawu",
        "colab_type": "code",
        "colab": {}
      },
      "source": [
        "d={'LoanStatNew':[],'Nulls':[]}\n",
        "for i in data.columns:\n",
        "    d['LoanStatNew'].append(i)\n",
        "    d['Nulls'].append(len(data[data[i].isnull()][i]))\n",
        "data_col=data_col.merge(pd.DataFrame(d),on='LoanStatNew')\n",
        "nulls=pd.DataFrame(d)"
      ],
      "execution_count": null,
      "outputs": []
    },
    {
      "cell_type": "code",
      "metadata": {
        "ExecuteTime": {
          "end_time": "2019-01-26T14:22:46.937960Z",
          "start_time": "2019-01-26T14:22:46.924993Z"
        },
        "id": "mwsXeawiDaww",
        "colab_type": "code",
        "colab": {
          "base_uri": "https://localhost:8080/",
          "height": 228
        },
        "outputId": "09dc0429-afa2-499a-ec3b-9ff151eea648"
      },
      "source": [
        "data_col.head()"
      ],
      "execution_count": null,
      "outputs": [
        {
          "output_type": "execute_result",
          "data": {
            "text/html": [
              "<div>\n",
              "<style scoped>\n",
              "    .dataframe tbody tr th:only-of-type {\n",
              "        vertical-align: middle;\n",
              "    }\n",
              "\n",
              "    .dataframe tbody tr th {\n",
              "        vertical-align: top;\n",
              "    }\n",
              "\n",
              "    .dataframe thead th {\n",
              "        text-align: right;\n",
              "    }\n",
              "</style>\n",
              "<table border=\"1\" class=\"dataframe\">\n",
              "  <thead>\n",
              "    <tr style=\"text-align: right;\">\n",
              "      <th></th>\n",
              "      <th>LoanStatNew</th>\n",
              "      <th>dtype</th>\n",
              "      <th>first value</th>\n",
              "      <th>Description</th>\n",
              "      <th>Nulls</th>\n",
              "    </tr>\n",
              "  </thead>\n",
              "  <tbody>\n",
              "    <tr>\n",
              "      <th>0</th>\n",
              "      <td>id</td>\n",
              "      <td>object</td>\n",
              "      <td>1077501</td>\n",
              "      <td>A unique LC assigned ID for the loan listing.</td>\n",
              "      <td>0</td>\n",
              "    </tr>\n",
              "    <tr>\n",
              "      <th>1</th>\n",
              "      <td>member_id</td>\n",
              "      <td>float64</td>\n",
              "      <td>1.2966e+06</td>\n",
              "      <td>A unique LC assigned Id for the borrower member.</td>\n",
              "      <td>3</td>\n",
              "    </tr>\n",
              "    <tr>\n",
              "      <th>2</th>\n",
              "      <td>loan_amnt</td>\n",
              "      <td>float64</td>\n",
              "      <td>5000</td>\n",
              "      <td>The listed amount of the loan applied for by the borrower. If at some point in time, the credit department reduces the loan amount, then it will be reflected in this value.</td>\n",
              "      <td>3</td>\n",
              "    </tr>\n",
              "    <tr>\n",
              "      <th>3</th>\n",
              "      <td>funded_amnt</td>\n",
              "      <td>float64</td>\n",
              "      <td>5000</td>\n",
              "      <td>The total amount committed to that loan at that point in time.</td>\n",
              "      <td>3</td>\n",
              "    </tr>\n",
              "    <tr>\n",
              "      <th>4</th>\n",
              "      <td>funded_amnt_inv</td>\n",
              "      <td>float64</td>\n",
              "      <td>4975</td>\n",
              "      <td>The total amount committed by investors for that loan at that point in time.</td>\n",
              "      <td>3</td>\n",
              "    </tr>\n",
              "  </tbody>\n",
              "</table>\n",
              "</div>"
            ],
            "text/plain": [
              "       LoanStatNew  ... Nulls\n",
              "0               id  ...     0\n",
              "1        member_id  ...     3\n",
              "2        loan_amnt  ...     3\n",
              "3      funded_amnt  ...     3\n",
              "4  funded_amnt_inv  ...     3\n",
              "\n",
              "[5 rows x 5 columns]"
            ]
          },
          "metadata": {
            "tags": []
          },
          "execution_count": 14
        }
      ]
    },
    {
      "cell_type": "markdown",
      "metadata": {
        "id": "w7KU_oAaDawz",
        "colab_type": "text"
      },
      "source": [
        "Now I am able to see info of each column. With this info I decided which column to delete from model."
      ]
    },
    {
      "cell_type": "markdown",
      "metadata": {
        "id": "RWyfQp72Dawz",
        "colab_type": "text"
      },
      "source": [
        "## Exploratory Data Analysis:\n",
        "\n",
        "Here I will go throught important features and analyse them. We'll use this information while data cleaning as well as training machine learning model."
      ]
    },
    {
      "cell_type": "code",
      "metadata": {
        "ExecuteTime": {
          "end_time": "2019-01-26T14:22:47.189778Z",
          "start_time": "2019-01-26T14:22:46.940954Z"
        },
        "id": "440-bLuMDaw0",
        "colab_type": "code",
        "colab": {}
      },
      "source": [
        "data_y=data['loan_status']"
      ],
      "execution_count": null,
      "outputs": []
    },
    {
      "cell_type": "code",
      "metadata": {
        "ExecuteTime": {
          "end_time": "2019-01-26T14:22:47.346762Z",
          "start_time": "2019-01-26T14:22:47.192142Z"
        },
        "id": "_4HxE_41Daw2",
        "colab_type": "code",
        "colab": {
          "base_uri": "https://localhost:8080/",
          "height": 106
        },
        "outputId": "745a6cad-4e7b-44ab-fed5-47d176f30a15"
      },
      "source": [
        "data_y.unique()"
      ],
      "execution_count": null,
      "outputs": [
        {
          "output_type": "execute_result",
          "data": {
            "text/plain": [
              "array(['Fully Paid', 'Charged Off', 'Current', 'Late (31-120 days)',\n",
              "       'In Grace Period', 'Late (16-30 days)', 'Default', nan,\n",
              "       'Does not meet the credit policy. Status:Fully Paid',\n",
              "       'Does not meet the credit policy. Status:Charged Off'],\n",
              "      dtype=object)"
            ]
          },
          "metadata": {
            "tags": []
          },
          "execution_count": 16
        }
      ]
    },
    {
      "cell_type": "code",
      "metadata": {
        "ExecuteTime": {
          "end_time": "2019-01-26T14:22:47.663434Z",
          "start_time": "2019-01-26T14:22:47.349723Z"
        },
        "id": "4KvPMO3HDaw5",
        "colab_type": "code",
        "colab": {
          "base_uri": "https://localhost:8080/",
          "height": 195
        },
        "outputId": "74d7707e-8060-4e6d-d757-336d30dc770c"
      },
      "source": [
        "data_y.value_counts()"
      ],
      "execution_count": null,
      "outputs": [
        {
          "output_type": "execute_result",
          "data": {
            "text/plain": [
              "Fully Paid                                             34085\n",
              "Charged Off                                             5662\n",
              "Does not meet the credit policy. Status:Fully Paid      1988\n",
              "Does not meet the credit policy. Status:Charged Off      761\n",
              "Current                                                   19\n",
              "Late (31-120 days)                                         9\n",
              "In Grace Period                                            8\n",
              "Late (16-30 days)                                          2\n",
              "Default                                                    1\n",
              "Name: loan_status, dtype: int64"
            ]
          },
          "metadata": {
            "tags": []
          },
          "execution_count": 17
        }
      ]
    },
    {
      "cell_type": "code",
      "metadata": {
        "ExecuteTime": {
          "end_time": "2019-01-26T14:22:47.944031Z",
          "start_time": "2019-01-26T14:22:47.665428Z"
        },
        "id": "fBLi7m3EDaw7",
        "colab_type": "code",
        "colab": {}
      },
      "source": [
        "default=['Charged Off','Late (31-120 days)','Default']\n",
        "data['loan_status']=data['loan_status'].apply(lambda x: 'Default' if x in default else x)"
      ],
      "execution_count": null,
      "outputs": []
    },
    {
      "cell_type": "code",
      "metadata": {
        "ExecuteTime": {
          "end_time": "2019-01-26T14:22:48.041732Z",
          "start_time": "2019-01-26T14:22:47.946006Z"
        },
        "id": "eezG-wb_Daw9",
        "colab_type": "code",
        "colab": {
          "base_uri": "https://localhost:8080/",
          "height": 159
        },
        "outputId": "fe5ebc25-1b18-465d-e3fa-c173787b5a98"
      },
      "source": [
        "data_y.value_counts()"
      ],
      "execution_count": null,
      "outputs": [
        {
          "output_type": "execute_result",
          "data": {
            "text/plain": [
              "Fully Paid                                             34085\n",
              "Default                                                 5672\n",
              "Does not meet the credit policy. Status:Fully Paid      1988\n",
              "Does not meet the credit policy. Status:Charged Off      761\n",
              "Current                                                   19\n",
              "In Grace Period                                            8\n",
              "Late (16-30 days)                                          2\n",
              "Name: loan_status, dtype: int64"
            ]
          },
          "metadata": {
            "tags": []
          },
          "execution_count": 19
        }
      ]
    },
    {
      "cell_type": "code",
      "metadata": {
        "ExecuteTime": {
          "end_time": "2019-01-26T14:22:48.415050Z",
          "start_time": "2019-01-26T14:22:48.043719Z"
        },
        "id": "4Ub0Qp85Daw_",
        "colab_type": "code",
        "colab": {}
      },
      "source": [
        "data=data[(data['loan_status']=='Default') | (data['loan_status']=='Fully Paid')]"
      ],
      "execution_count": null,
      "outputs": []
    },
    {
      "cell_type": "code",
      "metadata": {
        "ExecuteTime": {
          "end_time": "2019-01-26T14:22:48.449984Z",
          "start_time": "2019-01-26T14:22:48.417046Z"
        },
        "id": "nuRwaNF3DaxC",
        "colab_type": "code",
        "colab": {
          "base_uri": "https://localhost:8080/",
          "height": 35
        },
        "outputId": "d0cf1835-eede-403b-b67b-fdec1797ee27"
      },
      "source": [
        "#Data is skewed with the ration of 21.84/78.16\n",
        "data['loan_status'].value_counts()[0]/len(data['loan_status'])"
      ],
      "execution_count": null,
      "outputs": [
        {
          "output_type": "execute_result",
          "data": {
            "text/plain": [
              "0.8573332997962623"
            ]
          },
          "metadata": {
            "tags": []
          },
          "execution_count": 21
        }
      ]
    },
    {
      "cell_type": "code",
      "metadata": {
        "ExecuteTime": {
          "end_time": "2019-01-26T14:22:48.585650Z",
          "start_time": "2019-01-26T14:22:48.450954Z"
        },
        "scrolled": true,
        "id": "Vd3OsmwWDaxE",
        "colab_type": "code",
        "colab": {
          "base_uri": "https://localhost:8080/",
          "height": 135
        },
        "outputId": "c22fae07-0d06-44e8-d9bd-a8ce954ef7d6"
      },
      "source": [
        "#relation between average loan amount and loan status\n",
        "data[['loan_amnt','loan_status']].groupby(by='loan_status').mean()\n",
        "\n",
        "#Loan defaulters tend to apply for larger loans."
      ],
      "execution_count": null,
      "outputs": [
        {
          "output_type": "execute_result",
          "data": {
            "text/html": [
              "<div>\n",
              "<style scoped>\n",
              "    .dataframe tbody tr th:only-of-type {\n",
              "        vertical-align: middle;\n",
              "    }\n",
              "\n",
              "    .dataframe tbody tr th {\n",
              "        vertical-align: top;\n",
              "    }\n",
              "\n",
              "    .dataframe thead th {\n",
              "        text-align: right;\n",
              "    }\n",
              "</style>\n",
              "<table border=\"1\" class=\"dataframe\">\n",
              "  <thead>\n",
              "    <tr style=\"text-align: right;\">\n",
              "      <th></th>\n",
              "      <th>loan_amnt</th>\n",
              "    </tr>\n",
              "    <tr>\n",
              "      <th>loan_status</th>\n",
              "      <th></th>\n",
              "    </tr>\n",
              "  </thead>\n",
              "  <tbody>\n",
              "    <tr>\n",
              "      <th>Default</th>\n",
              "      <td>12150.185120</td>\n",
              "    </tr>\n",
              "    <tr>\n",
              "      <th>Fully Paid</th>\n",
              "      <td>11073.361449</td>\n",
              "    </tr>\n",
              "  </tbody>\n",
              "</table>\n",
              "</div>"
            ],
            "text/plain": [
              "                loan_amnt\n",
              "loan_status              \n",
              "Default      12150.185120\n",
              "Fully Paid   11073.361449"
            ]
          },
          "metadata": {
            "tags": []
          },
          "execution_count": 22
        }
      ]
    },
    {
      "cell_type": "code",
      "metadata": {
        "ExecuteTime": {
          "end_time": "2019-01-26T14:22:49.200919Z",
          "start_time": "2019-01-26T14:22:48.588643Z"
        },
        "id": "k3qes8tCDaxH",
        "colab_type": "code",
        "colab": {
          "base_uri": "https://localhost:8080/",
          "height": 407
        },
        "outputId": "24ed8a85-884d-401e-e472-f01b9041e22c"
      },
      "source": [
        "plt.figure(figsize=(12,6))\n",
        "sns.boxplot(data['loan_amnt'],data['loan_status'])"
      ],
      "execution_count": null,
      "outputs": [
        {
          "output_type": "execute_result",
          "data": {
            "text/plain": [
              "<matplotlib.axes._subplots.AxesSubplot at 0x7f649c401518>"
            ]
          },
          "metadata": {
            "tags": []
          },
          "execution_count": 23
        },
        {
          "output_type": "display_data",
          "data": {
            "image/png": "[encoded data removed]",
            "text/plain": [
              "<Figure size 864x432 with 1 Axes>"
            ]
          },
          "metadata": {
            "tags": [],
            "needs_background": "light"
          }
        }
      ]
    },
    {
      "cell_type": "code",
      "metadata": {
        "ExecuteTime": {
          "end_time": "2019-01-26T14:22:49.206903Z",
          "start_time": "2019-01-26T14:22:49.202913Z"
        },
        "id": "7YY25oudDaxJ",
        "colab_type": "code",
        "colab": {}
      },
      "source": [
        "# data.to_csv('DC1_1.csv',index=False)\n",
        "# data=pd.read_csv('DC1_1.csv')"
      ],
      "execution_count": null,
      "outputs": []
    },
    {
      "cell_type": "code",
      "metadata": {
        "ExecuteTime": {
          "end_time": "2019-01-26T14:22:49.535535Z",
          "start_time": "2019-01-26T14:22:49.209896Z"
        },
        "scrolled": true,
        "id": "rjz1OhoSDaxL",
        "colab_type": "code",
        "colab": {
          "base_uri": "https://localhost:8080/",
          "height": 335
        },
        "outputId": "69886079-ae4a-455b-ffa9-d1877add41cc"
      },
      "source": [
        "total_funded_amnt=data['funded_amnt'].sum()\n",
        "(data[['funded_amnt','loan_status']].groupby(by='loan_status').\\\n",
        "         sum()/total_funded_amnt*100).plot(kind='bar')\n",
        "\n",
        "#Around 23% of funded amount is defaulted"
      ],
      "execution_count": null,
      "outputs": [
        {
          "output_type": "execute_result",
          "data": {
            "text/plain": [
              "<matplotlib.axes._subplots.AxesSubplot at 0x7f6488aa7fd0>"
            ]
          },
          "metadata": {
            "tags": []
          },
          "execution_count": 25
        },
        {
          "output_type": "display_data",
          "data": {
            "image/png": "[encoded data removed]",
            "text/plain": [
              "<Figure size 432x288 with 1 Axes>"
            ]
          },
          "metadata": {
            "tags": [],
            "needs_background": "light"
          }
        }
      ]
    },
    {
      "cell_type": "code",
      "metadata": {
        "id": "N_Nscm81DaxO",
        "colab_type": "code",
        "colab": {}
      },
      "source": [
        ""
      ],
      "execution_count": null,
      "outputs": []
    },
    {
      "cell_type": "code",
      "metadata": {
        "ExecuteTime": {
          "end_time": "2019-01-26T14:22:49.560422Z",
          "start_time": "2019-01-26T14:22:49.537531Z"
        },
        "id": "4JnRjTVNDaxQ",
        "colab_type": "code",
        "colab": {}
      },
      "source": [
        "def get_default_rate_by_col(column):\n",
        "    \"\"\"\n",
        "    Param:\n",
        "        column: str, column for which default rate is to be calculated for it's unique values. Column must have limited\n",
        "        unique values.\n",
        "    \"\"\"\n",
        "    tmp=pd.DataFrame(data[data['loan_status']=='Default'][column].value_counts()/data[column].value_counts())\n",
        "    tmp.columns=[column+'_Default_Rate']\n",
        "    tmp=tmp.join(data[column].value_counts())\n",
        "    tmp.columns=[column+'_Default_Rate',column+'_Count']\n",
        "    return tmp"
      ],
      "execution_count": null,
      "outputs": []
    },
    {
      "cell_type": "code",
      "metadata": {
        "ExecuteTime": {
          "end_time": "2019-01-26T14:22:49.911295Z",
          "start_time": "2019-01-26T14:22:49.561385Z"
        },
        "id": "ryicwtjhDaxS",
        "colab_type": "code",
        "colab": {}
      },
      "source": [
        "# Create a column issue_year which has year in which the loan was issued.\n",
        "data['issue_year']=data['issue_d'].apply(lambda x:int(x.split('-')[1]))"
      ],
      "execution_count": null,
      "outputs": []
    },
    {
      "cell_type": "code",
      "metadata": {
        "ExecuteTime": {
          "end_time": "2019-01-26T14:22:50.133252Z",
          "start_time": "2019-01-26T14:22:49.913839Z"
        },
        "scrolled": true,
        "id": "a0qkqIVPDaxV",
        "colab_type": "code",
        "colab": {
          "base_uri": "https://localhost:8080/",
          "height": 299
        },
        "outputId": "79ec2484-cb88-4968-8625-a066f03e0dbc"
      },
      "source": [
        "default_rate_by_grade=get_default_rate_by_col('grade')\n",
        "plt.bar(x=default_rate_by_grade.index,height=default_rate_by_grade['grade_Default_Rate'])\n",
        "plt.title('Default Rate Vs. Grade')"
      ],
      "execution_count": null,
      "outputs": [
        {
          "output_type": "execute_result",
          "data": {
            "text/plain": [
              "Text(0.5, 1.0, 'Default Rate Vs. Grade')"
            ]
          },
          "metadata": {
            "tags": []
          },
          "execution_count": 28
        },
        {
          "output_type": "display_data",
          "data": {
            "image/png": "[encoded data removed]",
            "text/plain": [
              "<Figure size 432x288 with 1 Axes>"
            ]
          },
          "metadata": {
            "tags": [],
            "needs_background": "light"
          }
        }
      ]
    },
    {
      "cell_type": "code",
      "metadata": {
        "ExecuteTime": {
          "end_time": "2019-01-26T14:22:50.309794Z",
          "start_time": "2019-01-26T14:22:50.135248Z"
        },
        "scrolled": true,
        "id": "EbBVYQnmDaxY",
        "colab_type": "code",
        "colab": {
          "base_uri": "https://localhost:8080/",
          "height": 299
        },
        "outputId": "4359a531-0e93-460f-9345-ce435f5054b3"
      },
      "source": [
        "default_rate_by_year=get_default_rate_by_col('issue_year')\n",
        "plt.plot(default_rate_by_year['issue_year_Default_Rate'].sort_index())\n",
        "plt.title('Default Rate Vs. Issue Year')"
      ],
      "execution_count": null,
      "outputs": [
        {
          "output_type": "execute_result",
          "data": {
            "text/plain": [
              "Text(0.5, 1.0, 'Default Rate Vs. Issue Year')"
            ]
          },
          "metadata": {
            "tags": []
          },
          "execution_count": 29
        },
        {
          "output_type": "display_data",
          "data": {
            "image/png": "[encoded data removed]",
            "text/plain": [
              "<Figure size 432x288 with 1 Axes>"
            ]
          },
          "metadata": {
            "tags": [],
            "needs_background": "light"
          }
        }
      ]
    },
    {
      "cell_type": "code",
      "metadata": {
        "ExecuteTime": {
          "end_time": "2019-01-26T14:22:50.426494Z",
          "start_time": "2019-01-26T14:22:50.311775Z"
        },
        "id": "MlCBfoqCDaxa",
        "colab_type": "code",
        "colab": {}
      },
      "source": [
        "#interest_by_grade=data[['int_rate','grade']].groupby('grade').mean()\n",
        "#plt.bar(x=interest_by_grade.index,height=interest_by_grade['int_rate'])\n",
        "#plt.title('Interest Rate Vs. Grade') # ERROR producing"
      ],
      "execution_count": null,
      "outputs": []
    },
    {
      "cell_type": "code",
      "metadata": {
        "ExecuteTime": {
          "end_time": "2019-01-26T14:22:50.614253Z",
          "start_time": "2019-01-26T14:22:50.575333Z"
        },
        "id": "-OZzW8CUDaxj",
        "colab_type": "code",
        "colab": {
          "base_uri": "https://localhost:8080/",
          "height": 35
        },
        "outputId": "e2f260c1-0604-4b4f-b1c1-657eb9ca52c9"
      },
      "source": [
        "tmp=data[['total_pymnt','funded_amnt','loan_status','grade']]\n",
        "roi=(tmp['total_pymnt'].sum()/tmp['funded_amnt'].sum()-1)*100\n",
        "print(\"ROI:\",round(roi,2))"
      ],
      "execution_count": null,
      "outputs": [
        {
          "output_type": "stream",
          "text": [
            "ROI: 11.55\n"
          ],
          "name": "stdout"
        }
      ]
    },
    {
      "cell_type": "code",
      "metadata": {
        "ExecuteTime": {
          "end_time": "2019-01-26T14:22:50.765178Z",
          "start_time": "2019-01-26T14:22:50.617220Z"
        },
        "id": "4mfOghpJDaxl",
        "colab_type": "code",
        "colab": {
          "base_uri": "https://localhost:8080/",
          "height": 177
        },
        "outputId": "f4df7a2f-5ea3-4e88-d744-057548370d12"
      },
      "source": [
        "tmp1=tmp.groupby('grade').sum()\n",
        "ROI_by_grade=tmp1['total_pymnt']/tmp1['funded_amnt'] -1\n",
        "ROI_by_grade"
      ],
      "execution_count": null,
      "outputs": [
        {
          "output_type": "execute_result",
          "data": {
            "text/plain": [
              "grade\n",
              "A    0.072688\n",
              "B    0.106086\n",
              "C    0.120654\n",
              "D    0.132662\n",
              "E    0.162640\n",
              "F    0.165291\n",
              "G    0.171021\n",
              "dtype: float64"
            ]
          },
          "metadata": {
            "tags": []
          },
          "execution_count": 33
        }
      ]
    },
    {
      "cell_type": "code",
      "metadata": {
        "ExecuteTime": {
          "end_time": "2019-01-26T14:22:51.019854Z",
          "start_time": "2019-01-26T14:22:50.767171Z"
        },
        "id": "Pj-Img9eDaxn",
        "colab_type": "code",
        "colab": {
          "base_uri": "https://localhost:8080/",
          "height": 35
        },
        "outputId": "28d528ef-30aa-4e8f-d2de-2108d955f767"
      },
      "source": [
        "tmp=data[data['loan_status']=='Fully Paid'][['total_pymnt','funded_amnt','loan_status','grade']]\n",
        "roi=(tmp['total_pymnt'].sum()/tmp['funded_amnt'].sum()-1)*100\n",
        "print(\"ROI for fully paid loans:\",round(roi,2))"
      ],
      "execution_count": null,
      "outputs": [
        {
          "output_type": "stream",
          "text": [
            "ROI for fully paid loans: 21.06\n"
          ],
          "name": "stdout"
        }
      ]
    },
    {
      "cell_type": "code",
      "metadata": {
        "ExecuteTime": {
          "end_time": "2019-01-26T14:22:51.043781Z",
          "start_time": "2019-01-26T14:22:51.021840Z"
        },
        "id": "QAhTD5FADaxp",
        "colab_type": "code",
        "colab": {
          "base_uri": "https://localhost:8080/",
          "height": 177
        },
        "outputId": "a3e3ffa4-6323-46fb-f468-1aa7e52b0f03"
      },
      "source": [
        "#Gradewise ROI for fully paid loans\n",
        "tmp1=tmp.groupby('grade').sum()\n",
        "fully_paid_ROI_by_grade=tmp1['total_pymnt']/tmp1['funded_amnt'] -1\n",
        "fully_paid_ROI_by_grade"
      ],
      "execution_count": null,
      "outputs": [
        {
          "output_type": "execute_result",
          "data": {
            "text/plain": [
              "grade\n",
              "A    0.101340\n",
              "B    0.175704\n",
              "C    0.230678\n",
              "D    0.275927\n",
              "E    0.348657\n",
              "F    0.413595\n",
              "G    0.433616\n",
              "dtype: float64"
            ]
          },
          "metadata": {
            "tags": []
          },
          "execution_count": 35
        }
      ]
    },
    {
      "cell_type": "markdown",
      "metadata": {
        "id": "YczAvyUjYqVj",
        "colab_type": "text"
      },
      "source": [
        "# **Data Cleaning 1: Selecting relevant features**"
      ]
    },
    {
      "cell_type": "code",
      "metadata": {
        "ExecuteTime": {
          "end_time": "2019-01-26T14:22:51.183861Z",
          "start_time": "2019-01-26T14:22:51.045783Z"
        },
        "scrolled": true,
        "id": "2sSm8NkeDaxu",
        "colab_type": "code",
        "colab": {
          "base_uri": "https://localhost:8080/",
          "height": 496
        },
        "outputId": "40205f86-890c-47b2-dc63-90fb93f79e1d"
      },
      "source": [
        "data_col[0:13]"
      ],
      "execution_count": null,
      "outputs": [
        {
          "output_type": "execute_result",
          "data": {
            "text/html": [
              "<div>\n",
              "<style scoped>\n",
              "    .dataframe tbody tr th:only-of-type {\n",
              "        vertical-align: middle;\n",
              "    }\n",
              "\n",
              "    .dataframe tbody tr th {\n",
              "        vertical-align: top;\n",
              "    }\n",
              "\n",
              "    .dataframe thead th {\n",
              "        text-align: right;\n",
              "    }\n",
              "</style>\n",
              "<table border=\"1\" class=\"dataframe\">\n",
              "  <thead>\n",
              "    <tr style=\"text-align: right;\">\n",
              "      <th></th>\n",
              "      <th>LoanStatNew</th>\n",
              "      <th>dtype</th>\n",
              "      <th>first value</th>\n",
              "      <th>Description</th>\n",
              "      <th>Nulls</th>\n",
              "    </tr>\n",
              "  </thead>\n",
              "  <tbody>\n",
              "    <tr>\n",
              "      <th>0</th>\n",
              "      <td>id</td>\n",
              "      <td>object</td>\n",
              "      <td>1077501</td>\n",
              "      <td>A unique LC assigned ID for the loan listing.</td>\n",
              "      <td>0</td>\n",
              "    </tr>\n",
              "    <tr>\n",
              "      <th>1</th>\n",
              "      <td>member_id</td>\n",
              "      <td>float64</td>\n",
              "      <td>1.2966e+06</td>\n",
              "      <td>A unique LC assigned Id for the borrower member.</td>\n",
              "      <td>3</td>\n",
              "    </tr>\n",
              "    <tr>\n",
              "      <th>2</th>\n",
              "      <td>loan_amnt</td>\n",
              "      <td>float64</td>\n",
              "      <td>5000</td>\n",
              "      <td>The listed amount of the loan applied for by the borrower. If at some point in time, the credit department reduces the loan amount, then it will be reflected in this value.</td>\n",
              "      <td>3</td>\n",
              "    </tr>\n",
              "    <tr>\n",
              "      <th>3</th>\n",
              "      <td>funded_amnt</td>\n",
              "      <td>float64</td>\n",
              "      <td>5000</td>\n",
              "      <td>The total amount committed to that loan at that point in time.</td>\n",
              "      <td>3</td>\n",
              "    </tr>\n",
              "    <tr>\n",
              "      <th>4</th>\n",
              "      <td>funded_amnt_inv</td>\n",
              "      <td>float64</td>\n",
              "      <td>4975</td>\n",
              "      <td>The total amount committed by investors for that loan at that point in time.</td>\n",
              "      <td>3</td>\n",
              "    </tr>\n",
              "    <tr>\n",
              "      <th>5</th>\n",
              "      <td>term</td>\n",
              "      <td>object</td>\n",
              "      <td>36 months</td>\n",
              "      <td>The number of payments on the loan. Values are in months and can be either 36 or 60.</td>\n",
              "      <td>3</td>\n",
              "    </tr>\n",
              "    <tr>\n",
              "      <th>6</th>\n",
              "      <td>int_rate</td>\n",
              "      <td>object</td>\n",
              "      <td>10.65%</td>\n",
              "      <td>Interest Rate on the loan</td>\n",
              "      <td>3</td>\n",
              "    </tr>\n",
              "    <tr>\n",
              "      <th>7</th>\n",
              "      <td>installment</td>\n",
              "      <td>float64</td>\n",
              "      <td>162.87</td>\n",
              "      <td>The monthly payment owed by the borrower if the loan originates.</td>\n",
              "      <td>3</td>\n",
              "    </tr>\n",
              "    <tr>\n",
              "      <th>8</th>\n",
              "      <td>grade</td>\n",
              "      <td>object</td>\n",
              "      <td>B</td>\n",
              "      <td>LC assigned loan grade</td>\n",
              "      <td>3</td>\n",
              "    </tr>\n",
              "    <tr>\n",
              "      <th>9</th>\n",
              "      <td>sub_grade</td>\n",
              "      <td>object</td>\n",
              "      <td>B2</td>\n",
              "      <td>LC assigned loan subgrade</td>\n",
              "      <td>3</td>\n",
              "    </tr>\n",
              "    <tr>\n",
              "      <th>10</th>\n",
              "      <td>emp_title</td>\n",
              "      <td>object</td>\n",
              "      <td>NaN</td>\n",
              "      <td>The job title supplied by the Borrower when applying for the loan.*</td>\n",
              "      <td>2629</td>\n",
              "    </tr>\n",
              "    <tr>\n",
              "      <th>11</th>\n",
              "      <td>emp_length</td>\n",
              "      <td>object</td>\n",
              "      <td>10+ years</td>\n",
              "      <td>Employment length in years. Possible values are between 0 and 10 where 0 means less than one year and 10 means ten or more years.</td>\n",
              "      <td>1115</td>\n",
              "    </tr>\n",
              "    <tr>\n",
              "      <th>12</th>\n",
              "      <td>home_ownership</td>\n",
              "      <td>object</td>\n",
              "      <td>RENT</td>\n",
              "      <td>The home ownership status provided by the borrower during registration or obtained from the credit report. Our values are: RENT, OWN, MORTGAGE, OTHER</td>\n",
              "      <td>3</td>\n",
              "    </tr>\n",
              "  </tbody>\n",
              "</table>\n",
              "</div>"
            ],
            "text/plain": [
              "        LoanStatNew  ... Nulls\n",
              "0                id  ...     0\n",
              "1         member_id  ...     3\n",
              "2         loan_amnt  ...     3\n",
              "3       funded_amnt  ...     3\n",
              "4   funded_amnt_inv  ...     3\n",
              "5              term  ...     3\n",
              "6          int_rate  ...     3\n",
              "7       installment  ...     3\n",
              "8             grade  ...     3\n",
              "9         sub_grade  ...     3\n",
              "10        emp_title  ...  2629\n",
              "11       emp_length  ...  1115\n",
              "12   home_ownership  ...     3\n",
              "\n",
              "[13 rows x 5 columns]"
            ]
          },
          "metadata": {
            "tags": []
          },
          "execution_count": 36
        }
      ]
    },
    {
      "cell_type": "code",
      "metadata": {
        "ExecuteTime": {
          "end_time": "2019-01-26T14:22:51.478520Z",
          "start_time": "2019-01-26T14:22:51.185830Z"
        },
        "id": "T89BMWyMDaxy",
        "colab_type": "code",
        "colab": {}
      },
      "source": [
        "#'grade' and 'sub_grade' gives same information\n",
        "data.drop(['id','member_id','funded_amnt','funded_amnt_inv','installment','sub_grade','emp_title'],axis=1,inplace=True)"
      ],
      "execution_count": null,
      "outputs": []
    },
    {
      "cell_type": "code",
      "metadata": {
        "ExecuteTime": {
          "end_time": "2019-01-26T14:22:51.605350Z",
          "start_time": "2019-01-26T14:22:51.481512Z"
        },
        "scrolled": true,
        "id": "txrpG53SDax2",
        "colab_type": "code",
        "colab": {
          "base_uri": "https://localhost:8080/",
          "height": 496
        },
        "outputId": "fe618f21-574f-437a-afab-b3ea85e4f070"
      },
      "source": [
        "data_col[13:26]"
      ],
      "execution_count": null,
      "outputs": [
        {
          "output_type": "execute_result",
          "data": {
            "text/html": [
              "<div>\n",
              "<style scoped>\n",
              "    .dataframe tbody tr th:only-of-type {\n",
              "        vertical-align: middle;\n",
              "    }\n",
              "\n",
              "    .dataframe tbody tr th {\n",
              "        vertical-align: top;\n",
              "    }\n",
              "\n",
              "    .dataframe thead th {\n",
              "        text-align: right;\n",
              "    }\n",
              "</style>\n",
              "<table border=\"1\" class=\"dataframe\">\n",
              "  <thead>\n",
              "    <tr style=\"text-align: right;\">\n",
              "      <th></th>\n",
              "      <th>LoanStatNew</th>\n",
              "      <th>dtype</th>\n",
              "      <th>first value</th>\n",
              "      <th>Description</th>\n",
              "      <th>Nulls</th>\n",
              "    </tr>\n",
              "  </thead>\n",
              "  <tbody>\n",
              "    <tr>\n",
              "      <th>13</th>\n",
              "      <td>annual_inc</td>\n",
              "      <td>float64</td>\n",
              "      <td>24000</td>\n",
              "      <td>The self-reported annual income provided by the borrower during registration.</td>\n",
              "      <td>7</td>\n",
              "    </tr>\n",
              "    <tr>\n",
              "      <th>14</th>\n",
              "      <td>verification_status</td>\n",
              "      <td>object</td>\n",
              "      <td>Verified</td>\n",
              "      <td>Indicates if income was verified by LC, not verified, or if the income source was verified</td>\n",
              "      <td>3</td>\n",
              "    </tr>\n",
              "    <tr>\n",
              "      <th>15</th>\n",
              "      <td>issue_d</td>\n",
              "      <td>object</td>\n",
              "      <td>Dec-2011</td>\n",
              "      <td>The month which the loan was funded</td>\n",
              "      <td>3</td>\n",
              "    </tr>\n",
              "    <tr>\n",
              "      <th>16</th>\n",
              "      <td>loan_status</td>\n",
              "      <td>object</td>\n",
              "      <td>Fully Paid</td>\n",
              "      <td>Current status of the loan</td>\n",
              "      <td>3</td>\n",
              "    </tr>\n",
              "    <tr>\n",
              "      <th>17</th>\n",
              "      <td>pymnt_plan</td>\n",
              "      <td>object</td>\n",
              "      <td>n</td>\n",
              "      <td>Indicates if a payment plan has been put in place for the loan</td>\n",
              "      <td>3</td>\n",
              "    </tr>\n",
              "    <tr>\n",
              "      <th>18</th>\n",
              "      <td>purpose</td>\n",
              "      <td>object</td>\n",
              "      <td>credit_card</td>\n",
              "      <td>A category provided by the borrower for the loan request.</td>\n",
              "      <td>3</td>\n",
              "    </tr>\n",
              "    <tr>\n",
              "      <th>19</th>\n",
              "      <td>title</td>\n",
              "      <td>object</td>\n",
              "      <td>Computer</td>\n",
              "      <td>The loan title provided by the borrower</td>\n",
              "      <td>16</td>\n",
              "    </tr>\n",
              "    <tr>\n",
              "      <th>20</th>\n",
              "      <td>zip_code</td>\n",
              "      <td>object</td>\n",
              "      <td>860xx</td>\n",
              "      <td>The first 3 numbers of the zip code provided by the borrower in the loan application.</td>\n",
              "      <td>3</td>\n",
              "    </tr>\n",
              "    <tr>\n",
              "      <th>21</th>\n",
              "      <td>addr_state</td>\n",
              "      <td>object</td>\n",
              "      <td>AZ</td>\n",
              "      <td>The state provided by the borrower in the loan application</td>\n",
              "      <td>3</td>\n",
              "    </tr>\n",
              "    <tr>\n",
              "      <th>22</th>\n",
              "      <td>dti</td>\n",
              "      <td>float64</td>\n",
              "      <td>27.65</td>\n",
              "      <td>A ratio calculated using the borrower’s total monthly debt payments on the total debt obligations, excluding mortgage and the requested LC loan, divided by the borrower’s self-reported monthly income.</td>\n",
              "      <td>3</td>\n",
              "    </tr>\n",
              "    <tr>\n",
              "      <th>23</th>\n",
              "      <td>delinq_2yrs</td>\n",
              "      <td>float64</td>\n",
              "      <td>0</td>\n",
              "      <td>The number of 30+ days past-due incidences of delinquency in the borrower's credit file for the past 2 years</td>\n",
              "      <td>32</td>\n",
              "    </tr>\n",
              "    <tr>\n",
              "      <th>24</th>\n",
              "      <td>earliest_cr_line</td>\n",
              "      <td>object</td>\n",
              "      <td>Jan-1985</td>\n",
              "      <td>The month the borrower's earliest reported credit line was opened</td>\n",
              "      <td>32</td>\n",
              "    </tr>\n",
              "    <tr>\n",
              "      <th>25</th>\n",
              "      <td>inq_last_6mths</td>\n",
              "      <td>float64</td>\n",
              "      <td>1</td>\n",
              "      <td>The number of inquiries in past 6 months (excluding auto and mortgage inquiries)</td>\n",
              "      <td>32</td>\n",
              "    </tr>\n",
              "  </tbody>\n",
              "</table>\n",
              "</div>"
            ],
            "text/plain": [
              "            LoanStatNew  ... Nulls\n",
              "13           annual_inc  ...     7\n",
              "14  verification_status  ...     3\n",
              "15              issue_d  ...     3\n",
              "16          loan_status  ...     3\n",
              "17           pymnt_plan  ...     3\n",
              "18              purpose  ...     3\n",
              "19                title  ...    16\n",
              "20             zip_code  ...     3\n",
              "21           addr_state  ...     3\n",
              "22                  dti  ...     3\n",
              "23          delinq_2yrs  ...    32\n",
              "24     earliest_cr_line  ...    32\n",
              "25       inq_last_6mths  ...    32\n",
              "\n",
              "[13 rows x 5 columns]"
            ]
          },
          "metadata": {
            "tags": []
          },
          "execution_count": 38
        }
      ]
    },
    {
      "cell_type": "code",
      "metadata": {
        "id": "hjqhkYrBS-BV",
        "colab_type": "code",
        "colab": {
          "base_uri": "https://localhost:8080/",
          "height": 383
        },
        "outputId": "43efbfa3-82b3-4908-ccb4-b35dee555951"
      },
      "source": [
        "data.head()"
      ],
      "execution_count": null,
      "outputs": [
        {
          "output_type": "execute_result",
          "data": {
            "text/html": [
              "<div>\n",
              "<style scoped>\n",
              "    .dataframe tbody tr th:only-of-type {\n",
              "        vertical-align: middle;\n",
              "    }\n",
              "\n",
              "    .dataframe tbody tr th {\n",
              "        vertical-align: top;\n",
              "    }\n",
              "\n",
              "    .dataframe thead th {\n",
              "        text-align: right;\n",
              "    }\n",
              "</style>\n",
              "<table border=\"1\" class=\"dataframe\">\n",
              "  <thead>\n",
              "    <tr style=\"text-align: right;\">\n",
              "      <th></th>\n",
              "      <th>loan_amnt</th>\n",
              "      <th>term</th>\n",
              "      <th>int_rate</th>\n",
              "      <th>grade</th>\n",
              "      <th>emp_length</th>\n",
              "      <th>home_ownership</th>\n",
              "      <th>annual_inc</th>\n",
              "      <th>verification_status</th>\n",
              "      <th>issue_d</th>\n",
              "      <th>loan_status</th>\n",
              "      <th>pymnt_plan</th>\n",
              "      <th>purpose</th>\n",
              "      <th>title</th>\n",
              "      <th>zip_code</th>\n",
              "      <th>addr_state</th>\n",
              "      <th>dti</th>\n",
              "      <th>delinq_2yrs</th>\n",
              "      <th>earliest_cr_line</th>\n",
              "      <th>inq_last_6mths</th>\n",
              "      <th>open_acc</th>\n",
              "      <th>pub_rec</th>\n",
              "      <th>revol_bal</th>\n",
              "      <th>revol_util</th>\n",
              "      <th>total_acc</th>\n",
              "      <th>initial_list_status</th>\n",
              "      <th>out_prncp</th>\n",
              "      <th>out_prncp_inv</th>\n",
              "      <th>total_pymnt</th>\n",
              "      <th>total_pymnt_inv</th>\n",
              "      <th>total_rec_prncp</th>\n",
              "      <th>total_rec_int</th>\n",
              "      <th>total_rec_late_fee</th>\n",
              "      <th>recoveries</th>\n",
              "      <th>collection_recovery_fee</th>\n",
              "      <th>last_pymnt_d</th>\n",
              "      <th>last_pymnt_amnt</th>\n",
              "      <th>last_credit_pull_d</th>\n",
              "      <th>collections_12_mths_ex_med</th>\n",
              "      <th>policy_code</th>\n",
              "      <th>application_type</th>\n",
              "      <th>acc_now_delinq</th>\n",
              "      <th>chargeoff_within_12_mths</th>\n",
              "      <th>delinq_amnt</th>\n",
              "      <th>pub_rec_bankruptcies</th>\n",
              "      <th>tax_liens</th>\n",
              "      <th>issue_year</th>\n",
              "    </tr>\n",
              "  </thead>\n",
              "  <tbody>\n",
              "    <tr>\n",
              "      <th>0</th>\n",
              "      <td>5000.0</td>\n",
              "      <td>36 months</td>\n",
              "      <td>10.65%</td>\n",
              "      <td>B</td>\n",
              "      <td>10+ years</td>\n",
              "      <td>RENT</td>\n",
              "      <td>24000.0</td>\n",
              "      <td>Verified</td>\n",
              "      <td>Dec-2011</td>\n",
              "      <td>Fully Paid</td>\n",
              "      <td>n</td>\n",
              "      <td>credit_card</td>\n",
              "      <td>Computer</td>\n",
              "      <td>860xx</td>\n",
              "      <td>AZ</td>\n",
              "      <td>27.65</td>\n",
              "      <td>0.0</td>\n",
              "      <td>Jan-1985</td>\n",
              "      <td>1.0</td>\n",
              "      <td>3.0</td>\n",
              "      <td>0.0</td>\n",
              "      <td>13648.0</td>\n",
              "      <td>83.7%</td>\n",
              "      <td>9.0</td>\n",
              "      <td>f</td>\n",
              "      <td>0.0</td>\n",
              "      <td>0.0</td>\n",
              "      <td>5863.155187</td>\n",
              "      <td>5833.84</td>\n",
              "      <td>5000.00</td>\n",
              "      <td>863.16</td>\n",
              "      <td>0.00</td>\n",
              "      <td>0.0</td>\n",
              "      <td>0.00</td>\n",
              "      <td>Jan-2015</td>\n",
              "      <td>171.62</td>\n",
              "      <td>Dec-2016</td>\n",
              "      <td>0.0</td>\n",
              "      <td>1.0</td>\n",
              "      <td>INDIVIDUAL</td>\n",
              "      <td>0.0</td>\n",
              "      <td>0.0</td>\n",
              "      <td>0.0</td>\n",
              "      <td>0.0</td>\n",
              "      <td>0.0</td>\n",
              "      <td>2011</td>\n",
              "    </tr>\n",
              "    <tr>\n",
              "      <th>1</th>\n",
              "      <td>2500.0</td>\n",
              "      <td>60 months</td>\n",
              "      <td>15.27%</td>\n",
              "      <td>C</td>\n",
              "      <td>&lt; 1 year</td>\n",
              "      <td>RENT</td>\n",
              "      <td>30000.0</td>\n",
              "      <td>Source Verified</td>\n",
              "      <td>Dec-2011</td>\n",
              "      <td>Default</td>\n",
              "      <td>n</td>\n",
              "      <td>car</td>\n",
              "      <td>bike</td>\n",
              "      <td>309xx</td>\n",
              "      <td>GA</td>\n",
              "      <td>1.00</td>\n",
              "      <td>0.0</td>\n",
              "      <td>Apr-1999</td>\n",
              "      <td>5.0</td>\n",
              "      <td>3.0</td>\n",
              "      <td>0.0</td>\n",
              "      <td>1687.0</td>\n",
              "      <td>9.4%</td>\n",
              "      <td>4.0</td>\n",
              "      <td>f</td>\n",
              "      <td>0.0</td>\n",
              "      <td>0.0</td>\n",
              "      <td>1014.530000</td>\n",
              "      <td>1014.53</td>\n",
              "      <td>456.46</td>\n",
              "      <td>435.17</td>\n",
              "      <td>0.00</td>\n",
              "      <td>122.9</td>\n",
              "      <td>1.11</td>\n",
              "      <td>Apr-2013</td>\n",
              "      <td>119.66</td>\n",
              "      <td>Oct-2016</td>\n",
              "      <td>0.0</td>\n",
              "      <td>1.0</td>\n",
              "      <td>INDIVIDUAL</td>\n",
              "      <td>0.0</td>\n",
              "      <td>0.0</td>\n",
              "      <td>0.0</td>\n",
              "      <td>0.0</td>\n",
              "      <td>0.0</td>\n",
              "      <td>2011</td>\n",
              "    </tr>\n",
              "    <tr>\n",
              "      <th>2</th>\n",
              "      <td>2400.0</td>\n",
              "      <td>36 months</td>\n",
              "      <td>15.96%</td>\n",
              "      <td>C</td>\n",
              "      <td>10+ years</td>\n",
              "      <td>RENT</td>\n",
              "      <td>12252.0</td>\n",
              "      <td>Not Verified</td>\n",
              "      <td>Dec-2011</td>\n",
              "      <td>Fully Paid</td>\n",
              "      <td>n</td>\n",
              "      <td>small_business</td>\n",
              "      <td>real estate business</td>\n",
              "      <td>606xx</td>\n",
              "      <td>IL</td>\n",
              "      <td>8.72</td>\n",
              "      <td>0.0</td>\n",
              "      <td>Nov-2001</td>\n",
              "      <td>2.0</td>\n",
              "      <td>2.0</td>\n",
              "      <td>0.0</td>\n",
              "      <td>2956.0</td>\n",
              "      <td>98.5%</td>\n",
              "      <td>10.0</td>\n",
              "      <td>f</td>\n",
              "      <td>0.0</td>\n",
              "      <td>0.0</td>\n",
              "      <td>3005.666844</td>\n",
              "      <td>3005.67</td>\n",
              "      <td>2400.00</td>\n",
              "      <td>605.67</td>\n",
              "      <td>0.00</td>\n",
              "      <td>0.0</td>\n",
              "      <td>0.00</td>\n",
              "      <td>Jun-2014</td>\n",
              "      <td>649.91</td>\n",
              "      <td>Dec-2016</td>\n",
              "      <td>0.0</td>\n",
              "      <td>1.0</td>\n",
              "      <td>INDIVIDUAL</td>\n",
              "      <td>0.0</td>\n",
              "      <td>0.0</td>\n",
              "      <td>0.0</td>\n",
              "      <td>0.0</td>\n",
              "      <td>0.0</td>\n",
              "      <td>2011</td>\n",
              "    </tr>\n",
              "    <tr>\n",
              "      <th>3</th>\n",
              "      <td>10000.0</td>\n",
              "      <td>36 months</td>\n",
              "      <td>13.49%</td>\n",
              "      <td>C</td>\n",
              "      <td>10+ years</td>\n",
              "      <td>RENT</td>\n",
              "      <td>49200.0</td>\n",
              "      <td>Source Verified</td>\n",
              "      <td>Dec-2011</td>\n",
              "      <td>Fully Paid</td>\n",
              "      <td>n</td>\n",
              "      <td>other</td>\n",
              "      <td>personel</td>\n",
              "      <td>917xx</td>\n",
              "      <td>CA</td>\n",
              "      <td>20.00</td>\n",
              "      <td>0.0</td>\n",
              "      <td>Feb-1996</td>\n",
              "      <td>1.0</td>\n",
              "      <td>10.0</td>\n",
              "      <td>0.0</td>\n",
              "      <td>5598.0</td>\n",
              "      <td>21%</td>\n",
              "      <td>37.0</td>\n",
              "      <td>f</td>\n",
              "      <td>0.0</td>\n",
              "      <td>0.0</td>\n",
              "      <td>12231.890000</td>\n",
              "      <td>12231.89</td>\n",
              "      <td>10000.00</td>\n",
              "      <td>2214.92</td>\n",
              "      <td>16.97</td>\n",
              "      <td>0.0</td>\n",
              "      <td>0.00</td>\n",
              "      <td>Jan-2015</td>\n",
              "      <td>357.48</td>\n",
              "      <td>Apr-2016</td>\n",
              "      <td>0.0</td>\n",
              "      <td>1.0</td>\n",
              "      <td>INDIVIDUAL</td>\n",
              "      <td>0.0</td>\n",
              "      <td>0.0</td>\n",
              "      <td>0.0</td>\n",
              "      <td>0.0</td>\n",
              "      <td>0.0</td>\n",
              "      <td>2011</td>\n",
              "    </tr>\n",
              "    <tr>\n",
              "      <th>5</th>\n",
              "      <td>5000.0</td>\n",
              "      <td>36 months</td>\n",
              "      <td>7.90%</td>\n",
              "      <td>A</td>\n",
              "      <td>3 years</td>\n",
              "      <td>RENT</td>\n",
              "      <td>36000.0</td>\n",
              "      <td>Source Verified</td>\n",
              "      <td>Dec-2011</td>\n",
              "      <td>Fully Paid</td>\n",
              "      <td>n</td>\n",
              "      <td>wedding</td>\n",
              "      <td>My wedding loan I promise to pay back</td>\n",
              "      <td>852xx</td>\n",
              "      <td>AZ</td>\n",
              "      <td>11.20</td>\n",
              "      <td>0.0</td>\n",
              "      <td>Nov-2004</td>\n",
              "      <td>3.0</td>\n",
              "      <td>9.0</td>\n",
              "      <td>0.0</td>\n",
              "      <td>7963.0</td>\n",
              "      <td>28.3%</td>\n",
              "      <td>12.0</td>\n",
              "      <td>f</td>\n",
              "      <td>0.0</td>\n",
              "      <td>0.0</td>\n",
              "      <td>5632.210000</td>\n",
              "      <td>5632.21</td>\n",
              "      <td>5000.00</td>\n",
              "      <td>632.21</td>\n",
              "      <td>0.00</td>\n",
              "      <td>0.0</td>\n",
              "      <td>0.00</td>\n",
              "      <td>Jan-2015</td>\n",
              "      <td>161.03</td>\n",
              "      <td>Jan-2016</td>\n",
              "      <td>0.0</td>\n",
              "      <td>1.0</td>\n",
              "      <td>INDIVIDUAL</td>\n",
              "      <td>0.0</td>\n",
              "      <td>0.0</td>\n",
              "      <td>0.0</td>\n",
              "      <td>0.0</td>\n",
              "      <td>0.0</td>\n",
              "      <td>2011</td>\n",
              "    </tr>\n",
              "  </tbody>\n",
              "</table>\n",
              "</div>"
            ],
            "text/plain": [
              "   loan_amnt        term int_rate  ... pub_rec_bankruptcies tax_liens issue_year\n",
              "0     5000.0   36 months   10.65%  ...                  0.0       0.0       2011\n",
              "1     2500.0   60 months   15.27%  ...                  0.0       0.0       2011\n",
              "2     2400.0   36 months   15.96%  ...                  0.0       0.0       2011\n",
              "3    10000.0   36 months   13.49%  ...                  0.0       0.0       2011\n",
              "5     5000.0   36 months    7.90%  ...                  0.0       0.0       2011\n",
              "\n",
              "[5 rows x 46 columns]"
            ]
          },
          "metadata": {
            "tags": []
          },
          "execution_count": 39
        }
      ]
    },
    {
      "cell_type": "code",
      "metadata": {
        "ExecuteTime": {
          "end_time": "2019-01-26T14:22:51.898558Z",
          "start_time": "2019-01-26T14:22:51.608333Z"
        },
        "id": "-SYK5a7bDax4",
        "colab_type": "code",
        "colab": {}
      },
      "source": [
        "#removing url,desc to cover error\n",
        "data.drop(['title','zip_code'],axis=1,inplace=True)\n",
        "#Info in 'title' and 'purpose' is same"
      ],
      "execution_count": null,
      "outputs": []
    },
    {
      "cell_type": "code",
      "metadata": {
        "ExecuteTime": {
          "end_time": "2019-01-26T14:22:52.010259Z",
          "start_time": "2019-01-26T14:22:51.902549Z"
        },
        "id": "X385CaZCDax7",
        "colab_type": "code",
        "colab": {
          "base_uri": "https://localhost:8080/",
          "height": 462
        },
        "outputId": "a7237939-1667-47f1-b629-aa5a413589eb"
      },
      "source": [
        "data_col[26:39]"
      ],
      "execution_count": null,
      "outputs": [
        {
          "output_type": "execute_result",
          "data": {
            "text/html": [
              "<div>\n",
              "<style scoped>\n",
              "    .dataframe tbody tr th:only-of-type {\n",
              "        vertical-align: middle;\n",
              "    }\n",
              "\n",
              "    .dataframe tbody tr th {\n",
              "        vertical-align: top;\n",
              "    }\n",
              "\n",
              "    .dataframe thead th {\n",
              "        text-align: right;\n",
              "    }\n",
              "</style>\n",
              "<table border=\"1\" class=\"dataframe\">\n",
              "  <thead>\n",
              "    <tr style=\"text-align: right;\">\n",
              "      <th></th>\n",
              "      <th>LoanStatNew</th>\n",
              "      <th>dtype</th>\n",
              "      <th>first value</th>\n",
              "      <th>Description</th>\n",
              "      <th>Nulls</th>\n",
              "    </tr>\n",
              "  </thead>\n",
              "  <tbody>\n",
              "    <tr>\n",
              "      <th>26</th>\n",
              "      <td>open_acc</td>\n",
              "      <td>float64</td>\n",
              "      <td>3</td>\n",
              "      <td>The number of open credit lines in the borrower's credit file.</td>\n",
              "      <td>32</td>\n",
              "    </tr>\n",
              "    <tr>\n",
              "      <th>27</th>\n",
              "      <td>pub_rec</td>\n",
              "      <td>float64</td>\n",
              "      <td>0</td>\n",
              "      <td>Number of derogatory public records</td>\n",
              "      <td>32</td>\n",
              "    </tr>\n",
              "    <tr>\n",
              "      <th>28</th>\n",
              "      <td>revol_bal</td>\n",
              "      <td>float64</td>\n",
              "      <td>13648</td>\n",
              "      <td>Total credit revolving balance</td>\n",
              "      <td>3</td>\n",
              "    </tr>\n",
              "    <tr>\n",
              "      <th>29</th>\n",
              "      <td>revol_util</td>\n",
              "      <td>object</td>\n",
              "      <td>83.7%</td>\n",
              "      <td>Revolving line utilization rate, or the amount of credit the borrower is using relative to all available revolving credit.</td>\n",
              "      <td>93</td>\n",
              "    </tr>\n",
              "    <tr>\n",
              "      <th>30</th>\n",
              "      <td>total_acc</td>\n",
              "      <td>float64</td>\n",
              "      <td>9</td>\n",
              "      <td>The total number of credit lines currently in the borrower's credit file</td>\n",
              "      <td>32</td>\n",
              "    </tr>\n",
              "    <tr>\n",
              "      <th>31</th>\n",
              "      <td>initial_list_status</td>\n",
              "      <td>object</td>\n",
              "      <td>f</td>\n",
              "      <td>The initial listing status of the loan. Possible values are – W, F</td>\n",
              "      <td>3</td>\n",
              "    </tr>\n",
              "    <tr>\n",
              "      <th>32</th>\n",
              "      <td>out_prncp</td>\n",
              "      <td>float64</td>\n",
              "      <td>0</td>\n",
              "      <td>Remaining outstanding principal for total amount funded</td>\n",
              "      <td>3</td>\n",
              "    </tr>\n",
              "    <tr>\n",
              "      <th>33</th>\n",
              "      <td>out_prncp_inv</td>\n",
              "      <td>float64</td>\n",
              "      <td>0</td>\n",
              "      <td>Remaining outstanding principal for portion of total amount funded by investors</td>\n",
              "      <td>3</td>\n",
              "    </tr>\n",
              "    <tr>\n",
              "      <th>34</th>\n",
              "      <td>total_pymnt</td>\n",
              "      <td>float64</td>\n",
              "      <td>5863.16</td>\n",
              "      <td>Payments received to date for total amount funded</td>\n",
              "      <td>3</td>\n",
              "    </tr>\n",
              "    <tr>\n",
              "      <th>35</th>\n",
              "      <td>total_pymnt_inv</td>\n",
              "      <td>float64</td>\n",
              "      <td>5833.84</td>\n",
              "      <td>Payments received to date for portion of total amount funded by investors</td>\n",
              "      <td>3</td>\n",
              "    </tr>\n",
              "    <tr>\n",
              "      <th>36</th>\n",
              "      <td>total_rec_prncp</td>\n",
              "      <td>float64</td>\n",
              "      <td>5000</td>\n",
              "      <td>Principal received to date</td>\n",
              "      <td>3</td>\n",
              "    </tr>\n",
              "    <tr>\n",
              "      <th>37</th>\n",
              "      <td>total_rec_int</td>\n",
              "      <td>float64</td>\n",
              "      <td>863.16</td>\n",
              "      <td>Interest received to date</td>\n",
              "      <td>3</td>\n",
              "    </tr>\n",
              "    <tr>\n",
              "      <th>38</th>\n",
              "      <td>total_rec_late_fee</td>\n",
              "      <td>float64</td>\n",
              "      <td>0</td>\n",
              "      <td>Late fees received to date</td>\n",
              "      <td>3</td>\n",
              "    </tr>\n",
              "  </tbody>\n",
              "</table>\n",
              "</div>"
            ],
            "text/plain": [
              "            LoanStatNew  ... Nulls\n",
              "26             open_acc  ...    32\n",
              "27              pub_rec  ...    32\n",
              "28            revol_bal  ...     3\n",
              "29           revol_util  ...    93\n",
              "30            total_acc  ...    32\n",
              "31  initial_list_status  ...     3\n",
              "32            out_prncp  ...     3\n",
              "33        out_prncp_inv  ...     3\n",
              "34          total_pymnt  ...     3\n",
              "35      total_pymnt_inv  ...     3\n",
              "36      total_rec_prncp  ...     3\n",
              "37        total_rec_int  ...     3\n",
              "38   total_rec_late_fee  ...     3\n",
              "\n",
              "[13 rows x 5 columns]"
            ]
          },
          "metadata": {
            "tags": []
          },
          "execution_count": 41
        }
      ]
    },
    {
      "cell_type": "code",
      "metadata": {
        "ExecuteTime": {
          "end_time": "2019-01-26T14:22:52.313446Z",
          "start_time": "2019-01-26T14:22:52.013251Z"
        },
        "id": "kipbwmLaDax9",
        "colab_type": "code",
        "colab": {}
      },
      "source": [
        "# removed 'mths_since_last_delinq','mths_since_last_record', to cover error\n",
        "data.drop(['out_prncp','out_prncp_inv','total_pymnt'],\n",
        "          axis=1,inplace=True)"
      ],
      "execution_count": null,
      "outputs": []
    },
    {
      "cell_type": "code",
      "metadata": {
        "ExecuteTime": {
          "end_time": "2019-01-26T14:22:52.376288Z",
          "start_time": "2019-01-26T14:22:52.316447Z"
        },
        "id": "lfUtg-FdDax_",
        "colab_type": "code",
        "colab": {
          "base_uri": "https://localhost:8080/",
          "height": 496
        },
        "outputId": "859937fa-e2a3-424f-a3e4-5440e645d2bc"
      },
      "source": [
        "data_col[39:52]"
      ],
      "execution_count": null,
      "outputs": [
        {
          "output_type": "execute_result",
          "data": {
            "text/html": [
              "<div>\n",
              "<style scoped>\n",
              "    .dataframe tbody tr th:only-of-type {\n",
              "        vertical-align: middle;\n",
              "    }\n",
              "\n",
              "    .dataframe tbody tr th {\n",
              "        vertical-align: top;\n",
              "    }\n",
              "\n",
              "    .dataframe thead th {\n",
              "        text-align: right;\n",
              "    }\n",
              "</style>\n",
              "<table border=\"1\" class=\"dataframe\">\n",
              "  <thead>\n",
              "    <tr style=\"text-align: right;\">\n",
              "      <th></th>\n",
              "      <th>LoanStatNew</th>\n",
              "      <th>dtype</th>\n",
              "      <th>first value</th>\n",
              "      <th>Description</th>\n",
              "      <th>Nulls</th>\n",
              "    </tr>\n",
              "  </thead>\n",
              "  <tbody>\n",
              "    <tr>\n",
              "      <th>39</th>\n",
              "      <td>recoveries</td>\n",
              "      <td>float64</td>\n",
              "      <td>0</td>\n",
              "      <td>post charge off gross recovery</td>\n",
              "      <td>3</td>\n",
              "    </tr>\n",
              "    <tr>\n",
              "      <th>40</th>\n",
              "      <td>collection_recovery_fee</td>\n",
              "      <td>float64</td>\n",
              "      <td>0</td>\n",
              "      <td>post charge off collection fee</td>\n",
              "      <td>3</td>\n",
              "    </tr>\n",
              "    <tr>\n",
              "      <th>41</th>\n",
              "      <td>last_pymnt_d</td>\n",
              "      <td>object</td>\n",
              "      <td>Jan-2015</td>\n",
              "      <td>Last month payment was received</td>\n",
              "      <td>86</td>\n",
              "    </tr>\n",
              "    <tr>\n",
              "      <th>42</th>\n",
              "      <td>last_pymnt_amnt</td>\n",
              "      <td>float64</td>\n",
              "      <td>171.62</td>\n",
              "      <td>Last total payment amount received</td>\n",
              "      <td>3</td>\n",
              "    </tr>\n",
              "    <tr>\n",
              "      <th>43</th>\n",
              "      <td>last_credit_pull_d</td>\n",
              "      <td>object</td>\n",
              "      <td>Dec-2016</td>\n",
              "      <td>The most recent month LC pulled credit for this loan</td>\n",
              "      <td>7</td>\n",
              "    </tr>\n",
              "    <tr>\n",
              "      <th>44</th>\n",
              "      <td>collections_12_mths_ex_med</td>\n",
              "      <td>float64</td>\n",
              "      <td>0</td>\n",
              "      <td>Number of collections in 12 months excluding medical collections</td>\n",
              "      <td>148</td>\n",
              "    </tr>\n",
              "    <tr>\n",
              "      <th>45</th>\n",
              "      <td>policy_code</td>\n",
              "      <td>float64</td>\n",
              "      <td>1</td>\n",
              "      <td>publicly available policy_code=1\\nnew products not publicly available policy_code=2</td>\n",
              "      <td>3</td>\n",
              "    </tr>\n",
              "    <tr>\n",
              "      <th>46</th>\n",
              "      <td>application_type</td>\n",
              "      <td>object</td>\n",
              "      <td>INDIVIDUAL</td>\n",
              "      <td>Indicates whether the loan is an individual application or a joint application with two co-borrowers</td>\n",
              "      <td>3</td>\n",
              "    </tr>\n",
              "    <tr>\n",
              "      <th>47</th>\n",
              "      <td>acc_now_delinq</td>\n",
              "      <td>float64</td>\n",
              "      <td>0</td>\n",
              "      <td>The number of accounts on which the borrower is now delinquent.</td>\n",
              "      <td>32</td>\n",
              "    </tr>\n",
              "    <tr>\n",
              "      <th>48</th>\n",
              "      <td>chargeoff_within_12_mths</td>\n",
              "      <td>float64</td>\n",
              "      <td>0</td>\n",
              "      <td>Number of charge-offs within 12 months</td>\n",
              "      <td>148</td>\n",
              "    </tr>\n",
              "    <tr>\n",
              "      <th>49</th>\n",
              "      <td>delinq_amnt</td>\n",
              "      <td>float64</td>\n",
              "      <td>0</td>\n",
              "      <td>The past-due amount owed for the accounts on which the borrower is now delinquent.</td>\n",
              "      <td>32</td>\n",
              "    </tr>\n",
              "    <tr>\n",
              "      <th>50</th>\n",
              "      <td>pub_rec_bankruptcies</td>\n",
              "      <td>float64</td>\n",
              "      <td>0</td>\n",
              "      <td>Number of public record bankruptcies</td>\n",
              "      <td>1368</td>\n",
              "    </tr>\n",
              "    <tr>\n",
              "      <th>51</th>\n",
              "      <td>tax_liens</td>\n",
              "      <td>float64</td>\n",
              "      <td>0</td>\n",
              "      <td>Number of tax liens</td>\n",
              "      <td>108</td>\n",
              "    </tr>\n",
              "  </tbody>\n",
              "</table>\n",
              "</div>"
            ],
            "text/plain": [
              "                   LoanStatNew  ... Nulls\n",
              "39                  recoveries  ...     3\n",
              "40     collection_recovery_fee  ...     3\n",
              "41                last_pymnt_d  ...    86\n",
              "42             last_pymnt_amnt  ...     3\n",
              "43          last_credit_pull_d  ...     7\n",
              "44  collections_12_mths_ex_med  ...   148\n",
              "45                 policy_code  ...     3\n",
              "46            application_type  ...     3\n",
              "47              acc_now_delinq  ...    32\n",
              "48    chargeoff_within_12_mths  ...   148\n",
              "49                 delinq_amnt  ...    32\n",
              "50        pub_rec_bankruptcies  ...  1368\n",
              "51                   tax_liens  ...   108\n",
              "\n",
              "[13 rows x 5 columns]"
            ]
          },
          "metadata": {
            "tags": []
          },
          "execution_count": 43
        }
      ]
    },
    {
      "cell_type": "code",
      "metadata": {
        "ExecuteTime": {
          "end_time": "2019-01-26T14:22:52.646559Z",
          "start_time": "2019-01-26T14:22:52.378273Z"
        },
        "id": "Tku85iMfDayC",
        "colab_type": "code",
        "colab": {}
      },
      "source": [
        "# remvoed ,'next_pymnt_d','mths_since_last_major_derog'\n",
        "data.drop(['total_pymnt_inv','total_rec_prncp','total_rec_int','total_rec_late_fee','recoveries',\n",
        "          'collection_recovery_fee','last_pymnt_d','last_pymnt_amnt','last_credit_pull_d','policy_code'\n",
        "          ],\n",
        "          axis=1,inplace=True)"
      ],
      "execution_count": null,
      "outputs": []
    },
    {
      "cell_type": "code",
      "metadata": {
        "ExecuteTime": {
          "end_time": "2019-01-26T14:22:52.691436Z",
          "start_time": "2019-01-26T14:22:52.656532Z"
        },
        "id": "8-8vRalZDayE",
        "colab_type": "code",
        "colab": {
          "base_uri": "https://localhost:8080/",
          "height": 47
        },
        "outputId": "f2985e86-4340-451f-c2d5-eb7503e63d7a"
      },
      "source": [
        "data_col[52:65]"
      ],
      "execution_count": null,
      "outputs": [
        {
          "output_type": "execute_result",
          "data": {
            "text/html": [
              "<div>\n",
              "<style scoped>\n",
              "    .dataframe tbody tr th:only-of-type {\n",
              "        vertical-align: middle;\n",
              "    }\n",
              "\n",
              "    .dataframe tbody tr th {\n",
              "        vertical-align: top;\n",
              "    }\n",
              "\n",
              "    .dataframe thead th {\n",
              "        text-align: right;\n",
              "    }\n",
              "</style>\n",
              "<table border=\"1\" class=\"dataframe\">\n",
              "  <thead>\n",
              "    <tr style=\"text-align: right;\">\n",
              "      <th></th>\n",
              "      <th>LoanStatNew</th>\n",
              "      <th>dtype</th>\n",
              "      <th>first value</th>\n",
              "      <th>Description</th>\n",
              "      <th>Nulls</th>\n",
              "    </tr>\n",
              "  </thead>\n",
              "  <tbody>\n",
              "  </tbody>\n",
              "</table>\n",
              "</div>"
            ],
            "text/plain": [
              "Empty DataFrame\n",
              "Columns: [LoanStatNew, dtype, first value, Description, Nulls]\n",
              "Index: []"
            ]
          },
          "metadata": {
            "tags": []
          },
          "execution_count": 45
        }
      ]
    },
    {
      "cell_type": "code",
      "metadata": {
        "ExecuteTime": {
          "end_time": "2019-01-26T14:22:53.307788Z",
          "start_time": "2019-01-26T14:22:52.694429Z"
        },
        "id": "6wvsK5B5DayG",
        "colab_type": "code",
        "colab": {}
      },
      "source": [
        "# Drop any column with more than 50% missing values\n",
        "data = data.dropna(thresh=(len(data)/2),axis=1) "
      ],
      "execution_count": null,
      "outputs": []
    },
    {
      "cell_type": "code",
      "metadata": {
        "ExecuteTime": {
          "end_time": "2019-01-26T14:22:53.331730Z",
          "start_time": "2019-01-26T14:22:53.310780Z"
        },
        "id": "N78iK-uODayI",
        "colab_type": "code",
        "colab": {
          "base_uri": "https://localhost:8080/",
          "height": 47
        },
        "outputId": "0ff33eca-332e-407b-90fc-4699391f14dc"
      },
      "source": [
        "data_col[65:]\n",
        "#These columns are already removed as they have more than 50% null values (except total_hi_rev_lim)"
      ],
      "execution_count": null,
      "outputs": [
        {
          "output_type": "execute_result",
          "data": {
            "text/html": [
              "<div>\n",
              "<style scoped>\n",
              "    .dataframe tbody tr th:only-of-type {\n",
              "        vertical-align: middle;\n",
              "    }\n",
              "\n",
              "    .dataframe tbody tr th {\n",
              "        vertical-align: top;\n",
              "    }\n",
              "\n",
              "    .dataframe thead th {\n",
              "        text-align: right;\n",
              "    }\n",
              "</style>\n",
              "<table border=\"1\" class=\"dataframe\">\n",
              "  <thead>\n",
              "    <tr style=\"text-align: right;\">\n",
              "      <th></th>\n",
              "      <th>LoanStatNew</th>\n",
              "      <th>dtype</th>\n",
              "      <th>first value</th>\n",
              "      <th>Description</th>\n",
              "      <th>Nulls</th>\n",
              "    </tr>\n",
              "  </thead>\n",
              "  <tbody>\n",
              "  </tbody>\n",
              "</table>\n",
              "</div>"
            ],
            "text/plain": [
              "Empty DataFrame\n",
              "Columns: [LoanStatNew, dtype, first value, Description, Nulls]\n",
              "Index: []"
            ]
          },
          "metadata": {
            "tags": []
          },
          "execution_count": 47
        }
      ]
    },
    {
      "cell_type": "markdown",
      "metadata": {
        "id": "atyrSIPwY4of",
        "colab_type": "text"
      },
      "source": [
        "# **Data Cleaning 2: Null imputation**"
      ]
    },
    {
      "cell_type": "code",
      "metadata": {
        "ExecuteTime": {
          "end_time": "2019-01-26T14:22:53.443067Z",
          "start_time": "2019-01-26T14:22:53.335713Z"
        },
        "id": "viwtBaiXDayL",
        "colab_type": "code",
        "colab": {}
      },
      "source": [
        "# data.to_csv('data_dc1.csv',index=False)"
      ],
      "execution_count": null,
      "outputs": []
    },
    {
      "cell_type": "markdown",
      "metadata": {
        "id": "waZaUmdKDayO",
        "colab_type": "text"
      },
      "source": [
        ""
      ]
    },
    {
      "cell_type": "code",
      "metadata": {
        "ExecuteTime": {
          "end_time": "2019-01-26T14:22:53.584839Z",
          "start_time": "2019-01-26T14:22:53.445064Z"
        },
        "id": "dhZ2k7BhDayO",
        "colab_type": "code",
        "colab": {}
      },
      "source": [
        "# data=pd.read_csv('data_dc1.csv')\n",
        "# data.head()"
      ],
      "execution_count": null,
      "outputs": []
    },
    {
      "cell_type": "markdown",
      "metadata": {
        "id": "wigwklMfDayQ",
        "colab_type": "text"
      },
      "source": [
        "I calculated percent null values in each column.\n",
        "1. Columns with null values : 'emp_length', 'revol_util', 'collections_12_mths_ex_med', 'tot_coll_amt', 'tot_cur_bal', 'total_rev_hi_lim'\n",
        "2. As 'emp_length' is ordinal variable, I encoded it according to value instead of creating dummy binary variables. 'emp_length' less that one year was set to 0 and that greater than 10 years was set to 10.\n",
        "3. 'tot_coll_amt','tot_cur_bal','total_rev_hi_lim' have missing values till Sept-2012 date.\n",
        "4. Other variables do not show any pattern in missing values\n",
        "\n",
        "Check histograms of these columns. All of them are skewed with wide outliers."
      ]
    },
    {
      "cell_type": "code",
      "metadata": {
        "ExecuteTime": {
          "end_time": "2019-01-26T14:22:53.975104Z",
          "start_time": "2019-01-26T14:22:53.587832Z"
        },
        "scrolled": true,
        "id": "AxyLlrESDayU",
        "colab_type": "code",
        "colab": {}
      },
      "source": [
        "nulls_percent=[]\n",
        "for i in data.columns:\n",
        "    tmp=len(data[data[i].isnull()])/len(data)*100\n",
        "    nulls_percent.append(round(tmp,2))\n",
        "null_df=pd.DataFrame(data=nulls_percent,index=data.columns,columns=['% Nulls'])\n",
        "null_df[null_df['% Nulls']!=0]"
      ],
      "execution_count": null,
      "outputs": []
    },
    {
      "cell_type": "code",
      "metadata": {
        "ExecuteTime": {
          "end_time": "2019-01-26T14:22:53.981094Z",
          "start_time": "2019-01-26T14:22:53.977099Z"
        },
        "id": "YTKw3cV0DayX",
        "colab_type": "code",
        "colab": {}
      },
      "source": [
        "columns_with_nulls=['emp_length','revol_util','collections_12_mths_ex_med',\\\n",
        "                    'tot_coll_amt','tot_cur_bal','total_rev_hi_lim']"
      ],
      "execution_count": null,
      "outputs": []
    },
    {
      "cell_type": "code",
      "metadata": {
        "ExecuteTime": {
          "end_time": "2019-01-26T14:22:54.151631Z",
          "start_time": "2019-01-26T14:22:53.990063Z"
        },
        "id": "vWfWhyJ5Dayb",
        "colab_type": "code",
        "colab": {}
      },
      "source": [
        "data['emp_length'].unique()"
      ],
      "execution_count": null,
      "outputs": []
    },
    {
      "cell_type": "code",
      "metadata": {
        "ExecuteTime": {
          "end_time": "2019-01-26T14:22:54.630350Z",
          "start_time": "2019-01-26T14:22:54.153626Z"
        },
        "scrolled": true,
        "id": "FMmcqHGlDayd",
        "colab_type": "code",
        "colab": {}
      },
      "source": [
        "def encode_emp_length(x):\n",
        "    if type(x)==float: #Check for nan ,as only Nans are float while other values are str\n",
        "        return x\n",
        "    if x=='10+ years':\n",
        "        return 10\n",
        "    if x=='< 1 year':\n",
        "        return 0\n",
        "    else:\n",
        "        return int(x.split(' ')[0])\n",
        "    \n",
        "data['emp_length']=data['emp_length'].apply(encode_emp_length)"
      ],
      "execution_count": null,
      "outputs": []
    },
    {
      "cell_type": "markdown",
      "metadata": {
        "id": "Nlla6eTMDay9",
        "colab_type": "text"
      },
      "source": [
        "\n"
      ]
    },
    {
      "cell_type": "code",
      "metadata": {
        "ExecuteTime": {
          "end_time": "2019-01-26T14:22:57.133726Z",
          "start_time": "2019-01-26T14:22:57.017221Z"
        },
        "id": "61EhCiGHDay-",
        "colab_type": "code",
        "colab": {}
      },
      "source": [
        "# data=pd.read_csv('DC2.csv')\n",
        "# data.head()"
      ],
      "execution_count": null,
      "outputs": []
    },
    {
      "cell_type": "code",
      "metadata": {
        "ExecuteTime": {
          "end_time": "2019-01-26T14:22:57.285167Z",
          "start_time": "2019-01-26T14:22:57.135704Z"
        },
        "scrolled": true,
        "id": "HPUcG5oiDazK",
        "colab_type": "code",
        "colab": {}
      },
      "source": [
        "# data.info()"
      ],
      "execution_count": null,
      "outputs": []
    },
    {
      "cell_type": "code",
      "metadata": {
        "ExecuteTime": {
          "end_time": "2019-01-26T14:22:57.423274Z",
          "start_time": "2019-01-26T14:22:57.287179Z"
        },
        "id": "pR3dNWzwDazN",
        "colab_type": "code",
        "colab": {
          "base_uri": "https://localhost:8080/"
        },
        "outputId": "eae86b88-a507-49d8-a530-2f73a28f1ec6"
      },
      "source": [
        "data['term'].unique()"
      ],
      "execution_count": null,
      "outputs": [
        {
          "output_type": "execute_result",
          "data": {
            "text/plain": [
              "array([' 36 months', ' 60 months'], dtype=object)"
            ]
          },
          "metadata": {
            "tags": []
          },
          "execution_count": 62
        }
      ]
    },
    {
      "cell_type": "code",
      "metadata": {
        "ExecuteTime": {
          "end_time": "2019-01-26T14:22:57.570294Z",
          "start_time": "2019-01-26T14:22:57.425270Z"
        },
        "scrolled": true,
        "id": "8XGy65pWDazP",
        "colab_type": "code",
        "colab": {
          "base_uri": "https://localhost:8080/"
        },
        "outputId": "4aa5063f-4cc1-4849-bf39-d62268e06a85"
      },
      "source": [
        "data['grade'].value_counts()"
      ],
      "execution_count": null,
      "outputs": [
        {
          "output_type": "execute_result",
          "data": {
            "text/plain": [
              "B    12030\n",
              "A    10085\n",
              "C     8105\n",
              "D     5318\n",
              "E     2851\n",
              "F     1051\n",
              "G      317\n",
              "Name: grade, dtype: int64"
            ]
          },
          "metadata": {
            "tags": []
          },
          "execution_count": 63
        }
      ]
    },
    {
      "cell_type": "code",
      "metadata": {
        "ExecuteTime": {
          "end_time": "2019-01-26T14:22:57.708523Z",
          "start_time": "2019-01-26T14:22:57.578266Z"
        },
        "id": "aSgYS4sGDazS",
        "colab_type": "code",
        "colab": {
          "base_uri": "https://localhost:8080/"
        },
        "outputId": "fc225554-d260-4490-d7c1-aec96c7aca94"
      },
      "source": [
        "#home_ownership\n",
        "data['home_ownership'].value_counts()"
      ],
      "execution_count": null,
      "outputs": [
        {
          "output_type": "execute_result",
          "data": {
            "text/plain": [
              "RENT        18901\n",
              "MORTGAGE    17691\n",
              "OWN          3064\n",
              "OTHER          98\n",
              "NONE            3\n",
              "Name: home_ownership, dtype: int64"
            ]
          },
          "metadata": {
            "tags": []
          },
          "execution_count": 64
        }
      ]
    },
    {
      "cell_type": "code",
      "metadata": {
        "ExecuteTime": {
          "end_time": "2019-01-26T14:22:58.603129Z",
          "start_time": "2019-01-26T14:22:57.723483Z"
        },
        "id": "troeh-qCDazX",
        "colab_type": "code",
        "colab": {
          "base_uri": "https://localhost:8080/"
        },
        "outputId": "edcc994d-6fc1-41c5-c8e9-e1a3a31c2479"
      },
      "source": [
        "sns.countplot(x='home_ownership',hue='loan_status',data=data)"
      ],
      "execution_count": null,
      "outputs": [
        {
          "output_type": "execute_result",
          "data": {
            "text/plain": [
              "<matplotlib.axes._subplots.AxesSubplot at 0x7f64888c3710>"
            ]
          },
          "metadata": {
            "tags": []
          },
          "execution_count": 65
        },
        {
          "output_type": "display_data",
          "data": {
            "image/png": "[encoded data removed]",
            "text/plain": [
              "<Figure size 432x288 with 1 Axes>"
            ]
          },
          "metadata": {
            "tags": [],
            "needs_background": "light"
          }
        }
      ]
    },
    {
      "cell_type": "code",
      "metadata": {
        "ExecuteTime": {
          "end_time": "2019-01-26T14:22:58.669034Z",
          "start_time": "2019-01-26T14:22:58.606121Z"
        },
        "scrolled": true,
        "id": "vPkw5cDmDaza",
        "colab_type": "code",
        "colab": {}
      },
      "source": [
        "#Change OHTER, NONE, ANY to RENT as these data points are too low.\n",
        "data['home_ownership']=data['home_ownership'].apply(lambda x: 'RENT' if x in ['OTHER','NONE','ANY'] else x)"
      ],
      "execution_count": null,
      "outputs": []
    },
    {
      "cell_type": "code",
      "metadata": {
        "ExecuteTime": {
          "end_time": "2019-01-26T14:22:58.757581Z",
          "start_time": "2019-01-26T14:22:58.670035Z"
        },
        "id": "gcD712ASDazd",
        "colab_type": "code",
        "colab": {
          "base_uri": "https://localhost:8080/"
        },
        "outputId": "23198cd9-dbd4-4885-b108-c40770a19ff0"
      },
      "source": [
        "#verification_status\n",
        "data['verification_status'].value_counts()"
      ],
      "execution_count": null,
      "outputs": [
        {
          "output_type": "execute_result",
          "data": {
            "text/plain": [
              "Not Verified       16923\n",
              "Verified           12825\n",
              "Source Verified    10009\n",
              "Name: verification_status, dtype: int64"
            ]
          },
          "metadata": {
            "tags": []
          },
          "execution_count": 67
        }
      ]
    },
    {
      "cell_type": "code",
      "metadata": {
        "ExecuteTime": {
          "end_time": "2019-01-26T14:22:59.382356Z",
          "start_time": "2019-01-26T14:22:58.759547Z"
        },
        "id": "ix-05FBbDazf",
        "colab_type": "code",
        "colab": {
          "base_uri": "https://localhost:8080/"
        },
        "outputId": "bf06bb43-a81b-4612-d57e-8e621736d754"
      },
      "source": [
        "sns.countplot(x='verification_status',hue='loan_status',data=data)"
      ],
      "execution_count": null,
      "outputs": [
        {
          "output_type": "execute_result",
          "data": {
            "text/plain": [
              "<matplotlib.axes._subplots.AxesSubplot at 0x7f6488839630>"
            ]
          },
          "metadata": {
            "tags": []
          },
          "execution_count": 68
        },
        {
          "output_type": "display_data",
          "data": {
            "image/png": "[encoded data removed]",
            "text/plain": [
              "<Figure size 432x288 with 1 Axes>"
            ]
          },
          "metadata": {
            "tags": [],
            "needs_background": "light"
          }
        }
      ]
    },
    {
      "cell_type": "code",
      "metadata": {
        "id": "XeZACxB4Dazi",
        "colab_type": "code",
        "colab": {}
      },
      "source": [
        ""
      ],
      "execution_count": null,
      "outputs": []
    },
    {
      "cell_type": "code",
      "metadata": {
        "ExecuteTime": {
          "end_time": "2019-01-26T14:22:59.479061Z",
          "start_time": "2019-01-26T14:22:59.384343Z"
        },
        "id": "Qss9FZCYDazk",
        "colab_type": "code",
        "colab": {
          "base_uri": "https://localhost:8080/"
        },
        "outputId": "45cda4f4-5919-4a0f-d44d-eeaa710554b1"
      },
      "source": [
        "#pymnt_plan\n",
        "print(data['pymnt_plan'].value_counts())\n",
        "data.drop('pymnt_plan',axis=1,inplace=True)"
      ],
      "execution_count": null,
      "outputs": [
        {
          "output_type": "stream",
          "text": [
            "n    39757\n",
            "Name: pymnt_plan, dtype: int64\n"
          ],
          "name": "stdout"
        }
      ]
    },
    {
      "cell_type": "code",
      "metadata": {
        "ExecuteTime": {
          "end_time": "2019-01-26T14:22:59.581968Z",
          "start_time": "2019-01-26T14:22:59.481055Z"
        },
        "id": "tKrxQ-F8Dazm",
        "colab_type": "code",
        "colab": {
          "base_uri": "https://localhost:8080/"
        },
        "outputId": "ed6e2724-f077-42ed-c1d2-eef89f659176"
      },
      "source": [
        "#purpose\n",
        "print(\"Unique values in purpose column:\",data['purpose'].nunique())\n",
        "data['purpose'].value_counts()"
      ],
      "execution_count": null,
      "outputs": [
        {
          "output_type": "stream",
          "text": [
            "Unique values in purpose column: 14\n"
          ],
          "name": "stdout"
        },
        {
          "output_type": "execute_result",
          "data": {
            "text/plain": [
              "debt_consolidation    18657\n",
              "credit_card            5133\n",
              "other                  3999\n",
              "home_improvement       2984\n",
              "major_purchase         2187\n",
              "small_business         1829\n",
              "car                    1551\n",
              "wedding                 948\n",
              "medical                 695\n",
              "moving                  583\n",
              "house                   382\n",
              "vacation                381\n",
              "educational             325\n",
              "renewable_energy        103\n",
              "Name: purpose, dtype: int64"
            ]
          },
          "metadata": {
            "tags": []
          },
          "execution_count": 70
        }
      ]
    },
    {
      "cell_type": "code",
      "metadata": {
        "ExecuteTime": {
          "end_time": "2019-01-26T14:22:59.774018Z",
          "start_time": "2019-01-26T14:22:59.584960Z"
        },
        "scrolled": true,
        "id": "ZORWMkevDazp",
        "colab_type": "code",
        "colab": {
          "base_uri": "https://localhost:8080/"
        },
        "outputId": "a054bc49-9062-4bed-d0d5-169cba429e44"
      },
      "source": [
        "#Get the defalut rate for each laon purpose.\n",
        "get_default_rate_by_col('purpose')\n",
        "#Loans for small_business are highly probable to default."
      ],
      "execution_count": null,
      "outputs": [
        {
          "output_type": "execute_result",
          "data": {
            "text/html": [
              "<div>\n",
              "<style scoped>\n",
              "    .dataframe tbody tr th:only-of-type {\n",
              "        vertical-align: middle;\n",
              "    }\n",
              "\n",
              "    .dataframe tbody tr th {\n",
              "        vertical-align: top;\n",
              "    }\n",
              "\n",
              "    .dataframe thead th {\n",
              "        text-align: right;\n",
              "    }\n",
              "</style>\n",
              "<table border=\"1\" class=\"dataframe\">\n",
              "  <thead>\n",
              "    <tr style=\"text-align: right;\">\n",
              "      <th></th>\n",
              "      <th>purpose_Default_Rate</th>\n",
              "      <th>purpose_Count</th>\n",
              "    </tr>\n",
              "  </thead>\n",
              "  <tbody>\n",
              "    <tr>\n",
              "      <th>car</th>\n",
              "      <td>0.103159</td>\n",
              "      <td>1551</td>\n",
              "    </tr>\n",
              "    <tr>\n",
              "      <th>credit_card</th>\n",
              "      <td>0.106760</td>\n",
              "      <td>5133</td>\n",
              "    </tr>\n",
              "    <tr>\n",
              "      <th>debt_consolidation</th>\n",
              "      <td>0.149756</td>\n",
              "      <td>18657</td>\n",
              "    </tr>\n",
              "    <tr>\n",
              "      <th>educational</th>\n",
              "      <td>0.172308</td>\n",
              "      <td>325</td>\n",
              "    </tr>\n",
              "    <tr>\n",
              "      <th>home_improvement</th>\n",
              "      <td>0.117627</td>\n",
              "      <td>2984</td>\n",
              "    </tr>\n",
              "    <tr>\n",
              "      <th>house</th>\n",
              "      <td>0.154450</td>\n",
              "      <td>382</td>\n",
              "    </tr>\n",
              "    <tr>\n",
              "      <th>major_purchase</th>\n",
              "      <td>0.101509</td>\n",
              "      <td>2187</td>\n",
              "    </tr>\n",
              "    <tr>\n",
              "      <th>medical</th>\n",
              "      <td>0.152518</td>\n",
              "      <td>695</td>\n",
              "    </tr>\n",
              "    <tr>\n",
              "      <th>moving</th>\n",
              "      <td>0.157804</td>\n",
              "      <td>583</td>\n",
              "    </tr>\n",
              "    <tr>\n",
              "      <th>other</th>\n",
              "      <td>0.159290</td>\n",
              "      <td>3999</td>\n",
              "    </tr>\n",
              "    <tr>\n",
              "      <th>renewable_energy</th>\n",
              "      <td>0.184466</td>\n",
              "      <td>103</td>\n",
              "    </tr>\n",
              "    <tr>\n",
              "      <th>small_business</th>\n",
              "      <td>0.261892</td>\n",
              "      <td>1829</td>\n",
              "    </tr>\n",
              "    <tr>\n",
              "      <th>vacation</th>\n",
              "      <td>0.139108</td>\n",
              "      <td>381</td>\n",
              "    </tr>\n",
              "    <tr>\n",
              "      <th>wedding</th>\n",
              "      <td>0.101266</td>\n",
              "      <td>948</td>\n",
              "    </tr>\n",
              "  </tbody>\n",
              "</table>\n",
              "</div>"
            ],
            "text/plain": [
              "                    purpose_Default_Rate  purpose_Count\n",
              "car                             0.103159           1551\n",
              "credit_card                     0.106760           5133\n",
              "debt_consolidation              0.149756          18657\n",
              "educational                     0.172308            325\n",
              "home_improvement                0.117627           2984\n",
              "house                           0.154450            382\n",
              "major_purchase                  0.101509           2187\n",
              "medical                         0.152518            695\n",
              "moving                          0.157804            583\n",
              "other                           0.159290           3999\n",
              "renewable_energy                0.184466            103\n",
              "small_business                  0.261892           1829\n",
              "vacation                        0.139108            381\n",
              "wedding                         0.101266            948"
            ]
          },
          "metadata": {
            "tags": []
          },
          "execution_count": 71
        }
      ]
    },
    {
      "cell_type": "code",
      "metadata": {
        "id": "DtxS_EgBDazs",
        "colab_type": "code",
        "colab": {}
      },
      "source": [
        ""
      ],
      "execution_count": null,
      "outputs": []
    },
    {
      "cell_type": "code",
      "metadata": {
        "ExecuteTime": {
          "end_time": "2019-01-26T14:22:59.828846Z",
          "start_time": "2019-01-26T14:22:59.775997Z"
        },
        "scrolled": true,
        "id": "SV8CcMovDazu",
        "colab_type": "code",
        "colab": {
          "base_uri": "https://localhost:8080/"
        },
        "outputId": "ec522fc9-782b-4529-b1f4-a7f6ee5b58af"
      },
      "source": [
        "#addr_state\n",
        "print(\"Number of unique values in addr_state column:\",data['addr_state'].nunique())\n",
        "# data['addr_state'].value_counts()"
      ],
      "execution_count": null,
      "outputs": [
        {
          "output_type": "stream",
          "text": [
            "Number of unique values in addr_state column: 50\n"
          ],
          "name": "stdout"
        }
      ]
    },
    {
      "cell_type": "code",
      "metadata": {
        "ExecuteTime": {
          "end_time": "2019-01-26T14:23:00.009996Z",
          "start_time": "2019-01-26T14:22:59.836832Z"
        },
        "id": "fs51RP-6Dazx",
        "colab_type": "code",
        "colab": {}
      },
      "source": [
        "default_rate_by_state=get_default_rate_by_col('addr_state')['addr_state_Default_Rate'].sort_values()"
      ],
      "execution_count": null,
      "outputs": []
    },
    {
      "cell_type": "code",
      "metadata": {
        "ExecuteTime": {
          "end_time": "2019-01-26T14:23:00.021938Z",
          "start_time": "2019-01-26T14:23:00.012964Z"
        },
        "scrolled": true,
        "id": "BIGGQfrYDazz",
        "colab_type": "code",
        "colab": {}
      },
      "source": [
        "#Consider states with significant loan applications\n",
        "# default_rate_by_state[data['addr_state'].value_counts()>1000]"
      ],
      "execution_count": null,
      "outputs": []
    },
    {
      "cell_type": "code",
      "metadata": {
        "ExecuteTime": {
          "end_time": "2019-01-26T14:23:00.405467Z",
          "start_time": "2019-01-26T14:23:00.023959Z"
        },
        "id": "N7mrKnMODaz2",
        "colab_type": "code",
        "colab": {}
      },
      "source": [
        "#Check default rate per year per state\n",
        "tmp1=data.groupby(by=['issue_year','addr_state']).count()['loan_amnt']\n",
        "tmp2=data[data['loan_status']=='Default'].groupby(by=['issue_year','addr_state']).count()['loan_amnt']\n",
        "default_rate_by_year_state=pd.DataFrame(tmp2/tmp1)\n",
        "default_rate_by_year_state=default_rate_by_year_state.reset_index()\n",
        "default_rate_by_year_state=default_rate_by_year_state.sort_values(by=['issue_year','loan_amnt'],ascending=[True,False])\n",
        "default_rate_by_year_state=pd.DataFrame(default_rate_by_year_state)\n",
        "\n",
        "#Add count of rows for each state to the dataframe\n",
        "tmp=pd.DataFrame(data['addr_state'].value_counts())\n",
        "tmp.columns=['count']\n",
        "tmp.reset_index(inplace=True)\n",
        "tmp.columns=['addr_state','count']\n",
        "default_rate_by_year_state=pd.merge(default_rate_by_year_state,tmp,how='left',on='addr_state')\n",
        "pd.DataFrame(default_rate_by_year_state).to_csv('default_rate_by_yar_state.csv',index=False)\n"
      ],
      "execution_count": null,
      "outputs": []
    },
    {
      "cell_type": "code",
      "metadata": {
        "ExecuteTime": {
          "end_time": "2019-01-26T14:23:01.269703Z",
          "start_time": "2019-01-26T14:23:00.406985Z"
        },
        "id": "jVuw1jS9Daz6",
        "colab_type": "code",
        "colab": {}
      },
      "source": [
        "#From above dataframe\n",
        "states_to_keep=['FL','NY','LA','NV','IN','CA','IL','GA','TX']\n",
        "\n",
        "#Create dummy variables for these states\n",
        "for i in states_to_keep:\n",
        "    data['state'+i]=data['addr_state'].apply(lambda x: 1 if x==i else 0)\n",
        "data.drop('addr_state',axis=1,inplace=True)"
      ],
      "execution_count": null,
      "outputs": []
    },
    {
      "cell_type": "code",
      "metadata": {
        "ExecuteTime": {
          "end_time": "2019-01-26T14:23:01.849135Z",
          "start_time": "2019-01-26T14:23:01.271671Z"
        },
        "scrolled": true,
        "id": "7w4Wr6E6Daz8",
        "colab_type": "code",
        "colab": {
          "base_uri": "https://localhost:8080/"
        },
        "outputId": "9a6c20db-7e9e-4eb9-fc8f-e90c9d644ff5"
      },
      "source": [
        "#initial_list_status\n",
        "print(data['initial_list_status'].value_counts())\n",
        "sns.countplot(x='initial_list_status',hue='loan_status',data=data)"
      ],
      "execution_count": null,
      "outputs": [
        {
          "output_type": "stream",
          "text": [
            "f    39757\n",
            "Name: initial_list_status, dtype: int64\n"
          ],
          "name": "stdout"
        },
        {
          "output_type": "execute_result",
          "data": {
            "text/plain": [
              "<matplotlib.axes._subplots.AxesSubplot at 0x7f64888230b8>"
            ]
          },
          "metadata": {
            "tags": []
          },
          "execution_count": 77
        },
        {
          "output_type": "display_data",
          "data": {
            "image/png": "[encoded data removed]",
            "text/plain": [
              "<Figure size 432x288 with 1 Axes>"
            ]
          },
          "metadata": {
            "tags": [],
            "needs_background": "light"
          }
        }
      ]
    },
    {
      "cell_type": "code",
      "metadata": {
        "ExecuteTime": {
          "end_time": "2019-01-26T14:23:02.157302Z",
          "start_time": "2019-01-26T14:23:01.851123Z"
        },
        "scrolled": true,
        "id": "AXwJc4YVDa0A",
        "colab_type": "code",
        "colab": {
          "base_uri": "https://localhost:8080/"
        },
        "outputId": "f0072309-fd24-4069-d72f-f09cd1b5f12f"
      },
      "source": [
        "print(get_default_rate_by_col('initial_list_status'))\n",
        "\n",
        "data.drop('initial_list_status',axis=1,inplace=True)"
      ],
      "execution_count": null,
      "outputs": [
        {
          "output_type": "stream",
          "text": [
            "   initial_list_status_Default_Rate  initial_list_status_Count\n",
            "f                          0.142667                      39757\n"
          ],
          "name": "stdout"
        }
      ]
    },
    {
      "cell_type": "code",
      "metadata": {
        "ExecuteTime": {
          "end_time": "2019-01-26T14:23:02.372727Z",
          "start_time": "2019-01-26T14:23:02.173312Z"
        },
        "scrolled": true,
        "id": "eg6TyiznDa0D",
        "colab_type": "code",
        "colab": {
          "base_uri": "https://localhost:8080/"
        },
        "outputId": "889fb092-e843-4bab-bfb5-cfa90f1097cb"
      },
      "source": [
        "#application_type\n",
        "print(data['application_type'].value_counts())\n",
        "data.drop('application_type',axis=1,inplace=True)"
      ],
      "execution_count": null,
      "outputs": [
        {
          "output_type": "stream",
          "text": [
            "INDIVIDUAL    39757\n",
            "Name: application_type, dtype: int64\n"
          ],
          "name": "stdout"
        }
      ]
    },
    {
      "cell_type": "code",
      "metadata": {
        "ExecuteTime": {
          "end_time": "2019-01-26T14:23:07.387409Z",
          "start_time": "2019-01-26T14:23:02.381709Z"
        },
        "id": "LdIoGigTDa0G",
        "colab_type": "code",
        "colab": {}
      },
      "source": [
        "#earliest_cr_line\n",
        "\n",
        "#Change 'issue_d' and 'earliest_cr_line ' to datetime\n",
        "from datetime import datetime as dt\n",
        "data['issue_d']=data['issue_d'].apply(lambda x:dt.strptime('01-'+x,'%d-%b-%Y').date())\n",
        "data['earliest_cr_line']=data['earliest_cr_line'].apply(lambda x:dt.strptime('01-'+x,'%d-%b-%Y').date())"
      ],
      "execution_count": null,
      "outputs": []
    },
    {
      "cell_type": "code",
      "metadata": {
        "ExecuteTime": {
          "end_time": "2019-01-26T14:23:11.288911Z",
          "start_time": "2019-01-26T14:23:07.390303Z"
        },
        "scrolled": true,
        "id": "gn_uj2gNDa0J",
        "colab_type": "code",
        "colab": {}
      },
      "source": [
        "data['earliest_cr_line']=data['issue_d']-data['earliest_cr_line']\n",
        "data['earliest_cr_line']=data['earliest_cr_line'].apply(lambda x:int(str(x).split(' ')[0]))"
      ],
      "execution_count": null,
      "outputs": []
    },
    {
      "cell_type": "code",
      "metadata": {
        "ExecuteTime": {
          "end_time": "2019-01-26T14:23:11.311839Z",
          "start_time": "2019-01-26T14:23:11.290897Z"
        },
        "id": "w1IzDE1CDa0L",
        "colab_type": "code",
        "colab": {}
      },
      "source": [
        "#Divide 'annual_inc','tot_cur_bal','total_rev_hi_lim','revol_bal' by 'loan_amnt'\n",
        "tmp=['annual_inc','revol_bal']\n",
        "for col in tmp:\n",
        "    data[col]=data[col]/data['loan_amnt']"
      ],
      "execution_count": null,
      "outputs": []
    },
    {
      "cell_type": "code",
      "metadata": {
        "ExecuteTime": {
          "end_time": "2019-01-26T14:23:11.881530Z",
          "start_time": "2019-01-26T14:23:11.313834Z"
        },
        "id": "VBNuMuivDa0P",
        "colab_type": "code",
        "colab": {}
      },
      "source": [
        "#Create dummy variables for categorical columns\n",
        "cat_cols=['term','grade','home_ownership','verification_status','purpose']\n",
        "for col in cat_cols:\n",
        "    data=data.join(pd.get_dummies(data[col],drop_first=True))\n",
        "data.drop(cat_cols,axis=1,inplace=True)"
      ],
      "execution_count": null,
      "outputs": []
    },
    {
      "cell_type": "code",
      "metadata": {
        "id": "BOJ9GdQQDa0R",
        "colab_type": "code",
        "colab": {}
      },
      "source": [
        ""
      ],
      "execution_count": null,
      "outputs": []
    },
    {
      "cell_type": "code",
      "metadata": {
        "ExecuteTime": {
          "end_time": "2019-01-26T14:23:11.887485Z",
          "start_time": "2019-01-26T14:23:11.883493Z"
        },
        "id": "2mtzR2EKDa0U",
        "colab_type": "code",
        "colab": {}
      },
      "source": [
        "# collections_12_mths_ex_med\n",
        "# get_default_rate_by_col('collections_12_mths_ex_med')"
      ],
      "execution_count": null,
      "outputs": []
    },
    {
      "cell_type": "code",
      "metadata": {
        "ExecuteTime": {
          "end_time": "2019-01-26T14:23:12.094444Z",
          "start_time": "2019-01-26T14:23:11.890477Z"
        },
        "id": "LXlEdi0hDa0X",
        "colab_type": "code",
        "colab": {}
      },
      "source": [
        "data.drop('collections_12_mths_ex_med',axis=1,inplace=True)"
      ],
      "execution_count": null,
      "outputs": []
    },
    {
      "cell_type": "code",
      "metadata": {
        "ExecuteTime": {
          "end_time": "2019-01-26T14:23:12.167819Z",
          "start_time": "2019-01-26T14:23:12.096438Z"
        },
        "id": "4mum56ywDa0b",
        "colab_type": "code",
        "colab": {}
      },
      "source": [
        "# data.to_csv('DC3.csv',index=False)"
      ],
      "execution_count": null,
      "outputs": []
    },
    {
      "cell_type": "markdown",
      "metadata": {
        "id": "UDocSj7qDa0g",
        "colab_type": "text"
      },
      "source": [
        ""
      ]
    },
    {
      "cell_type": "code",
      "metadata": {
        "ExecuteTime": {
          "end_time": "2019-01-26T14:23:12.261449Z",
          "start_time": "2019-01-26T14:23:12.169691Z"
        },
        "id": "pLIQJL9rDa0g",
        "colab_type": "code",
        "colab": {}
      },
      "source": [
        "# data=pd.read_csv('DC3.csv')\n",
        "# data.head()"
      ],
      "execution_count": null,
      "outputs": []
    },
    {
      "cell_type": "markdown",
      "metadata": {
        "id": "zlF6WKOADa0k",
        "colab_type": "text"
      },
      "source": [
        "As an example I will explain how did I handle outliers for columns : \n",
        "\n",
        "**1. int_rate**\n",
        "\n",
        "#get_default_rate_by_col('int_rate')\n",
        "\n",
        "As interest rate increases, default rate is also increasing. So, outliers in this case can be helpful to predict defaulter.\n",
        "\n",
        "For interest rate > 25 around 50% loans are default.\n",
        "\n",
        "So, I've transformed this feature."
      ]
    },
    {
      "cell_type": "code",
      "metadata": {
        "ExecuteTime": {
          "end_time": "2019-01-26T14:23:12.476058Z",
          "start_time": "2019-01-26T14:23:12.263444Z"
        },
        "id": "7LFt-4p1Da0k",
        "colab_type": "code",
        "colab": {}
      },
      "source": [
        "#int_rate\n",
        "\n",
        "#The points outside the whiskers of boxplot represents outliers."
      ],
      "execution_count": null,
      "outputs": []
    },
    {
      "cell_type": "code",
      "metadata": {
        "ExecuteTime": {
          "end_time": "2019-01-26T14:23:12.490025Z",
          "start_time": "2019-01-26T14:23:12.479026Z"
        },
        "scrolled": true,
        "id": "4jmfsmtLDa0n",
        "colab_type": "code",
        "colab": {
          "base_uri": "https://localhost:8080/",
          "height": 35
        },
        "outputId": "e3a4e09e-bc02-42e6-9fad-a6963dea077f"
      },
      "source": [
        "data[data['int_rate']>'25']['loan_status'].value_counts()"
      ],
      "execution_count": null,
      "outputs": [
        {
          "output_type": "execute_result",
          "data": {
            "text/plain": [
              "Series([], Name: loan_status, dtype: int64)"
            ]
          },
          "metadata": {
            "tags": []
          },
          "execution_count": 91
        }
      ]
    },
    {
      "cell_type": "code",
      "metadata": {
        "ExecuteTime": {
          "end_time": "2019-01-26T14:23:12.829629Z",
          "start_time": "2019-01-26T14:23:12.492989Z"
        },
        "id": "TxY-XtowDa0r",
        "colab_type": "code",
        "colab": {}
      },
      "source": [
        "#sns.distplot(data['int_rate'])"
      ],
      "execution_count": null,
      "outputs": []
    },
    {
      "cell_type": "code",
      "metadata": {
        "ExecuteTime": {
          "end_time": "2019-01-26T14:23:13.417080Z",
          "start_time": "2019-01-26T14:23:12.831620Z"
        },
        "id": "atl2DB8rDa0u",
        "colab_type": "code",
        "colab": {}
      },
      "source": [
        "#sns.distplot(data['int_rate'].apply(lambda x: np.log1p(x)**2))"
      ],
      "execution_count": null,
      "outputs": []
    },
    {
      "cell_type": "code",
      "metadata": {
        "ExecuteTime": {
          "end_time": "2019-01-26T14:23:13.797063Z",
          "start_time": "2019-01-26T14:23:13.419050Z"
        },
        "id": "626yzQnXDa0x",
        "colab_type": "code",
        "colab": {}
      },
      "source": [
        "#data['int_rate']=data['int_rate'].apply(lambda x: np.log1p(x)**2)#"
      ],
      "execution_count": null,
      "outputs": []
    },
    {
      "cell_type": "code",
      "metadata": {
        "ExecuteTime": {
          "end_time": "2019-01-26T14:23:13.933673Z",
          "start_time": "2019-01-26T14:23:13.799057Z"
        },
        "id": "uR3Avo4zDa00",
        "colab_type": "code",
        "colab": {
          "base_uri": "https://localhost:8080/",
          "height": 405
        },
        "outputId": "9f047f7c-4584-4d8e-bf37-c9b3642b0584"
      },
      "source": [
        "fig, ax = plt.subplots()\n",
        "fig.set_size_inches(12,6)\n",
        "sns.boxplot(x='dti',data=data,ax=ax)"
      ],
      "execution_count": null,
      "outputs": [
        {
          "output_type": "execute_result",
          "data": {
            "text/plain": [
              "<matplotlib.axes._subplots.AxesSubplot at 0x7f648898b0f0>"
            ]
          },
          "metadata": {
            "tags": []
          },
          "execution_count": 92
        },
        {
          "output_type": "display_data",
          "data": {
            "image/png": "[encoded data removed]",
            "text/plain": [
              "<Figure size 864x432 with 1 Axes>"
            ]
          },
          "metadata": {
            "tags": [],
            "needs_background": "light"
          }
        }
      ]
    },
    {
      "cell_type": "code",
      "metadata": {
        "ExecuteTime": {
          "end_time": "2019-01-26T14:23:14.083298Z",
          "start_time": "2019-01-26T14:23:13.936679Z"
        },
        "scrolled": true,
        "id": "Nu9Jm1bwDa01",
        "colab_type": "code",
        "colab": {}
      },
      "source": [
        "data=data[data['dti']<40].reset_index(drop=True)"
      ],
      "execution_count": null,
      "outputs": []
    },
    {
      "cell_type": "code",
      "metadata": {
        "ExecuteTime": {
          "end_time": "2019-01-26T14:23:14.355578Z",
          "start_time": "2019-01-26T14:23:14.085268Z"
        },
        "id": "sb9MpzM4Da03",
        "colab_type": "code",
        "colab": {
          "base_uri": "https://localhost:8080/",
          "height": 297
        },
        "outputId": "1811e58e-67ba-4bbb-ce45-a3e0352c4889"
      },
      "source": [
        "sns.distplot(data['dti'])"
      ],
      "execution_count": null,
      "outputs": [
        {
          "output_type": "execute_result",
          "data": {
            "text/plain": [
              "<matplotlib.axes._subplots.AxesSubplot at 0x7f64888020b8>"
            ]
          },
          "metadata": {
            "tags": []
          },
          "execution_count": 94
        },
        {
          "output_type": "display_data",
          "data": {
            "image/png": "[encoded data removed]",
            "text/plain": [
              "<Figure size 432x288 with 1 Axes>"
            ]
          },
          "metadata": {
            "tags": [],
            "needs_background": "light"
          }
        }
      ]
    },
    {
      "cell_type": "code",
      "metadata": {
        "ExecuteTime": {
          "end_time": "2019-01-26T14:23:17.517724Z",
          "start_time": "2019-01-26T14:23:17.401422Z"
        },
        "id": "TPE5wzs8Da1H",
        "colab_type": "code",
        "colab": {}
      },
      "source": [
        "# data=pd.read_csv('DC4.csv')\n",
        "# data.head()"
      ],
      "execution_count": null,
      "outputs": []
    },
    {
      "cell_type": "code",
      "metadata": {
        "ExecuteTime": {
          "end_time": "2019-01-26T14:23:17.722685Z",
          "start_time": "2019-01-26T14:23:17.519603Z"
        },
        "id": "EPignG5QDa1M",
        "colab_type": "code",
        "colab": {}
      },
      "source": [
        "y=data['loan_status'].apply(lambda x: 1 if x=='Default' else 0)"
      ],
      "execution_count": null,
      "outputs": []
    },
    {
      "cell_type": "code",
      "metadata": {
        "ExecuteTime": {
          "end_time": "2019-01-26T14:23:17.798705Z",
          "start_time": "2019-01-26T14:23:17.724550Z"
        },
        "scrolled": true,
        "id": "SzuDx0RIDa1c",
        "colab_type": "code",
        "colab": {}
      },
      "source": [
        "data.drop(['loan_status','issue_d','issue_year'],axis=1,inplace=True)"
      ],
      "execution_count": null,
      "outputs": []
    },
    {
      "cell_type": "code",
      "metadata": {
        "ExecuteTime": {
          "end_time": "2019-01-26T14:23:18.009905Z",
          "start_time": "2019-01-26T14:23:17.886871Z"
        },
        "code_folding": [],
        "scrolled": true,
        "id": "_vOq5NCsDa1l",
        "colab_type": "code",
        "colab": {}
      },
      "source": [
        "# remove_by_vif(data)"
      ],
      "execution_count": null,
      "outputs": []
    },
    {
      "cell_type": "code",
      "metadata": {
        "ExecuteTime": {
          "end_time": "2019-01-26T14:23:18.109743Z",
          "start_time": "2019-01-26T14:23:18.017883Z"
        },
        "id": "WQa84czRDa1n",
        "colab_type": "code",
        "colab": {}
      },
      "source": [
        "columns_removed_by_vif=['loan_amnt','int_rate','annual_inc','total_acc','revol_bal',\n",
        "                        'debt_consolidation','total_rev_hi_lim','tot_cur_bal','open_acc'\n",
        "                        'revol_util','earliest_cr_line',]"
      ],
      "execution_count": null,
      "outputs": []
    },
    {
      "cell_type": "markdown",
      "metadata": {
        "id": "veuLRKdsDa1p",
        "colab_type": "text"
      },
      "source": [
        "# **Model Training and Evaluation:**\n",
        "training a machine learning model to predict potential loan defaulters.\n",
        "\n",
        "1. Data Prepocessing\n",
        "2. Training ML Model\n",
        "3. Evaluating Model on Test Data\n",
        "4. Learning Cuvre and Scope for Improvement"
      ]
    },
    {
      "cell_type": "markdown",
      "metadata": {
        "id": "SgZRnX5zEkqA",
        "colab_type": "text"
      },
      "source": [
        "**Imports and Functions**"
      ]
    },
    {
      "cell_type": "code",
      "metadata": {
        "id": "tS5uCv85E-rT",
        "colab_type": "code",
        "colab": {}
      },
      "source": [
        "import numpy as np\n",
        "import pandas as pd\n",
        "import matplotlib.pyplot as plt\n",
        "import seaborn as sns\n",
        "from scipy.special import boxcox1p     \n",
        "import joblib\n",
        "%matplotlib inline\n",
        "import warnings\n",
        "warnings.filterwarnings('ignore')\n",
        "\n",
        "# Importing custom classes and functions\n",
        "import sys\n",
        "sys.path.insert(0, '/content/drive/My Drive/DM Project - loan prediction for Banks/lending_club')\n",
        "from data_cleaning import * \n",
        "\n",
        "\n",
        "from sklearn.preprocessing import StandardScaler\n",
        "from sklearn.linear_model import LogisticRegression\n",
        "from sklearn.ensemble import RandomForestClassifier\n",
        "from xgboost import XGBClassifier\n",
        "from lightgbm import LGBMClassifier\n",
        "from sklearn.metrics import roc_auc_score,confusion_matrix,classification_report\n",
        "from sklearn.model_selection import learning_curve,StratifiedKFold"
      ],
      "execution_count": null,
      "outputs": []
    },
    {
      "cell_type": "code",
      "metadata": {
        "id": "y6UxYJ5EFGp8",
        "colab_type": "code",
        "colab": {}
      },
      "source": [
        "def create_performance_chart(data,y_pred,y_test):\n",
        "    picked=data.loc[y_pred==0]\n",
        "    grades=['A','B','C','D','E','F','G']\n",
        "    tmp=pd.DataFrame(columns=['ROI','% Picked','% Default'],index=grades)\n",
        "    for g in grades:\n",
        "        grade_picked=picked[picked['grade']==g]\n",
        "        if len(grade_picked.index)==0:\n",
        "            roi=None\n",
        "            default_rate=None\n",
        "            perc_picked=0\n",
        "        else:\n",
        "            num_picked=len(grade_picked.index)\n",
        "            num_total=len(data[data['grade']==g].index)\n",
        "            roi=sum(grade_picked['total_pymnt'])/sum(grade_picked['funded_amnt'])-1\n",
        "            l=y_test[list(grade_picked.index)]\n",
        "            default_rate=100*len(l[l==1])/len(l)\n",
        "            perc_picked=100*num_picked/num_total\n",
        "\n",
        "        tmp.loc[g,'% Picked']=perc_picked\n",
        "        tmp.loc[g,'ROI']=roi\n",
        "        tmp.loc[g,'% Default']=default_rate\n",
        "    return tmp"
      ],
      "execution_count": null,
      "outputs": []
    },
    {
      "cell_type": "markdown",
      "metadata": {
        "id": "tALLjQ87FP39",
        "colab_type": "text"
      },
      "source": [
        "# **Data Preprocessing (Project working fine until here)**\n",
        "To be done!\n",
        "1. Selected only Fully Paid  and Defaulted loans for training model.\n",
        "2. Train-Test Split\n",
        "3. Created a pipeline for data preprocessing. \n",
        "4. Standard Scaling."
      ]
    },
    {
      "cell_type": "code",
      "metadata": {
        "id": "0ccUxxw-Fbue",
        "colab_type": "code",
        "colab": {}
      },
      "source": [
        "data=pd.read_csv('/content/drive/My Drive/DM Project - loan prediction for Banks/loan_data.csv')\n",
        "\n",
        "# Select only default or paid loans. Ignore current loans\n",
        "default=['Charged Off','Late (31-120 days)','Default',\n",
        "             'Does not meet the credit policy. Status:Charged Off','Late (16-30 days)',\n",
        "                 'In Grace Period']\n",
        "paid=['Fully Paid',\n",
        "              'Does not meet the credit policy. Status:Fully Paid']\n",
        "\n",
        "data['loan_status']=data['loan_status'].apply(lambda x: 'Default' if x in default else x)\n",
        "data['loan_status']=data['loan_status'].apply(lambda x: 'Fully Paid' if x in paid else x)\n",
        "data=data[(data['loan_status']=='Default') | (data['loan_status']=='Fully Paid')]\n",
        "y=data['loan_status'].apply(lambda x: 1 if x=='Default' else 0)\n",
        "data.drop('loan_status',axis=1,inplace=True)"
      ],
      "execution_count": null,
      "outputs": []
    },
    {
      "cell_type": "code",
      "metadata": {
        "id": "Vwd12-8wFe_t",
        "colab_type": "code",
        "colab": {}
      },
      "source": [
        "# Train-Test Split (Stratified)\n",
        "\n",
        "from sklearn.model_selection import train_test_split\n",
        "X_train, X_test, y_train, y_test = train_test_split(data, y, test_size=0.2, stratify=y,random_state=42)"
      ],
      "execution_count": null,
      "outputs": []
    },
    {
      "cell_type": "code",
      "metadata": {
        "id": "DLTKkZaOFiqS",
        "colab_type": "code",
        "colab": {}
      },
      "source": [
        "# Creating pipeline for data preprocessing\n",
        "\n",
        "selected_featues=['loan_amnt', 'term', 'int_rate',\n",
        "                  'grade',#'sub_grade',\n",
        "       'emp_length', 'home_ownership', 'annual_inc', 'verification_status','issue_d', \n",
        "        'purpose', 'addr_state', 'dti',\n",
        "       'delinq_2yrs', 'earliest_cr_line', 'inq_last_6mths', 'open_acc',\n",
        "       'pub_rec', 'revol_bal', 'revol_util', 'total_acc',\n",
        "       'acc_now_delinq', 'tot_coll_amt', 'tot_cur_bal', 'total_rev_hi_lim']\n",
        "\n",
        "num_features= ['loan_amnt', 'int_rate', 'emp_length','annual_inc',\n",
        "       'dti','delinq_2yrs','inq_last_6mths','revol_bal', 'revol_util',\n",
        "       'total_acc','open_acc','pub_rec','acc_now_delinq','tot_coll_amt', 'tot_cur_bal', 'total_rev_hi_lim']\n",
        "\n",
        "dummy_cols=['term','grade','home_ownership','verification_status','purpose']\n",
        "\n",
        "states_to_keep=['FL','NY','LA','NV','IN','CA','IL','GA','TX']\n",
        "\n",
        "features_to_scale=['loan_amnt', 'int_rate', 'emp_length', 'annual_inc',\n",
        "       'dti', 'delinq_2yrs', 'earliest_cr_line',\n",
        "       'inq_last_6mths', 'open_acc', 'pub_rec', 'revol_bal', 'revol_util',\n",
        "       'total_acc', 'acc_now_delinq']\n",
        "Pipeline=([\n",
        "    ('selector',DataFrameSelector(selected_featues)),\n",
        "    ('misc_fe',Misc_Feature_Engineering()),\n",
        "    ('median_imp',Median_Imputer(num_features)),\n",
        "    ('dummy_vars',Dummy_Variables(states_to_keep=states_to_keep,cat_cols=dummy_cols)),\n",
        "    ('tranform_features',Transform_Skewed_Features())\n",
        "])\n",
        "pipeline=Pipeline"
      ],
      "execution_count": null,
      "outputs": []
    },
    {
      "cell_type": "code",
      "metadata": {
        "id": "lhnVTQTcFlqH",
        "colab_type": "code",
        "colab": {}
      },
      "source": [
        "\n",
        "#X_train=pipeline.fit_transform(X_train)\n",
        "# Scaling\n",
        "scaler=StandardScaler()\n",
        "#X_train[features_to_scale]=scaler.fit_transform(X_train[features_to_scale])"
      ],
      "execution_count": null,
      "outputs": []
    },
    {
      "cell_type": "code",
      "metadata": {
        "id": "LsaqBi6SFyWy",
        "colab_type": "code",
        "colab": {}
      },
      "source": [
        ""
      ],
      "execution_count": null,
      "outputs": []
    },
    {
      "cell_type": "markdown",
      "metadata": {
        "id": "At8yRwu_Fy-O",
        "colab_type": "text"
      },
      "source": [
        "# Training Model **(Some Errors occuring !)**\n",
        "Models:\n",
        "\n",
        "1. Logistic Regression\n",
        "2. Random Forest\n",
        "3. LightGBM\n",
        "Final Model:\n",
        "\n",
        "Hard voting of above three models (Defaulter if all three models predict as defaulter)"
      ]
    },
    {
      "cell_type": "code",
      "metadata": {
        "id": "X36_TKVXF4dL",
        "colab_type": "code",
        "colab": {
          "base_uri": "https://localhost:8080/",
          "height": 352
        },
        "outputId": "8bf6682c-29a5-45c7-fbe1-c692035aebdb"
      },
      "source": [
        "# Linear Regression\n",
        "lr=LogisticRegression(C=10,tol=0.0001,random_state=51,n_jobs=-1,solver='liblinear',class_weight='balanced')\n",
        "lr.fit(X_train,y_train)"
      ],
      "execution_count": null,
      "outputs": [
        {
          "output_type": "error",
          "ename": "ValueError",
          "evalue": "ignored",
          "traceback": [
            "\u001b[0;31m---------------------------------------------------------------------------\u001b[0m",
            "\u001b[0;31mValueError\u001b[0m                                Traceback (most recent call last)",
            "\u001b[0;32m<ipython-input-113-6316976c73a4>\u001b[0m in \u001b[0;36m<module>\u001b[0;34m()\u001b[0m\n\u001b[1;32m      1\u001b[0m \u001b[0;31m# Linear Regression\u001b[0m\u001b[0;34m\u001b[0m\u001b[0;34m\u001b[0m\u001b[0;34m\u001b[0m\u001b[0m\n\u001b[1;32m      2\u001b[0m \u001b[0mlr\u001b[0m\u001b[0;34m=\u001b[0m\u001b[0mLogisticRegression\u001b[0m\u001b[0;34m(\u001b[0m\u001b[0mC\u001b[0m\u001b[0;34m=\u001b[0m\u001b[0;36m10\u001b[0m\u001b[0;34m,\u001b[0m\u001b[0mtol\u001b[0m\u001b[0;34m=\u001b[0m\u001b[0;36m0.0001\u001b[0m\u001b[0;34m,\u001b[0m\u001b[0mrandom_state\u001b[0m\u001b[0;34m=\u001b[0m\u001b[0;36m51\u001b[0m\u001b[0;34m,\u001b[0m\u001b[0mn_jobs\u001b[0m\u001b[0;34m=\u001b[0m\u001b[0;34m-\u001b[0m\u001b[0;36m1\u001b[0m\u001b[0;34m,\u001b[0m\u001b[0msolver\u001b[0m\u001b[0;34m=\u001b[0m\u001b[0;34m'liblinear'\u001b[0m\u001b[0;34m,\u001b[0m\u001b[0mclass_weight\u001b[0m\u001b[0;34m=\u001b[0m\u001b[0;34m'balanced'\u001b[0m\u001b[0;34m)\u001b[0m\u001b[0;34m\u001b[0m\u001b[0;34m\u001b[0m\u001b[0m\n\u001b[0;32m----> 3\u001b[0;31m \u001b[0mlr\u001b[0m\u001b[0;34m.\u001b[0m\u001b[0mfit\u001b[0m\u001b[0;34m(\u001b[0m\u001b[0mX_train\u001b[0m\u001b[0;34m,\u001b[0m\u001b[0my_train\u001b[0m\u001b[0;34m)\u001b[0m\u001b[0;34m\u001b[0m\u001b[0;34m\u001b[0m\u001b[0m\n\u001b[0m",
            "\u001b[0;32m/usr/local/lib/python3.6/dist-packages/sklearn/linear_model/_logistic.py\u001b[0m in \u001b[0;36mfit\u001b[0;34m(self, X, y, sample_weight)\u001b[0m\n\u001b[1;32m   1525\u001b[0m \u001b[0;34m\u001b[0m\u001b[0m\n\u001b[1;32m   1526\u001b[0m         X, y = check_X_y(X, y, accept_sparse='csr', dtype=_dtype, order=\"C\",\n\u001b[0;32m-> 1527\u001b[0;31m                          accept_large_sparse=solver != 'liblinear')\n\u001b[0m\u001b[1;32m   1528\u001b[0m         \u001b[0mcheck_classification_targets\u001b[0m\u001b[0;34m(\u001b[0m\u001b[0my\u001b[0m\u001b[0;34m)\u001b[0m\u001b[0;34m\u001b[0m\u001b[0;34m\u001b[0m\u001b[0m\n\u001b[1;32m   1529\u001b[0m         \u001b[0mself\u001b[0m\u001b[0;34m.\u001b[0m\u001b[0mclasses_\u001b[0m \u001b[0;34m=\u001b[0m \u001b[0mnp\u001b[0m\u001b[0;34m.\u001b[0m\u001b[0munique\u001b[0m\u001b[0;34m(\u001b[0m\u001b[0my\u001b[0m\u001b[0;34m)\u001b[0m\u001b[0;34m\u001b[0m\u001b[0;34m\u001b[0m\u001b[0m\n",
            "\u001b[0;32m/usr/local/lib/python3.6/dist-packages/sklearn/utils/validation.py\u001b[0m in \u001b[0;36mcheck_X_y\u001b[0;34m(X, y, accept_sparse, accept_large_sparse, dtype, order, copy, force_all_finite, ensure_2d, allow_nd, multi_output, ensure_min_samples, ensure_min_features, y_numeric, warn_on_dtype, estimator)\u001b[0m\n\u001b[1;32m    753\u001b[0m                     \u001b[0mensure_min_features\u001b[0m\u001b[0;34m=\u001b[0m\u001b[0mensure_min_features\u001b[0m\u001b[0;34m,\u001b[0m\u001b[0;34m\u001b[0m\u001b[0;34m\u001b[0m\u001b[0m\n\u001b[1;32m    754\u001b[0m                     \u001b[0mwarn_on_dtype\u001b[0m\u001b[0;34m=\u001b[0m\u001b[0mwarn_on_dtype\u001b[0m\u001b[0;34m,\u001b[0m\u001b[0;34m\u001b[0m\u001b[0;34m\u001b[0m\u001b[0m\n\u001b[0;32m--> 755\u001b[0;31m                     estimator=estimator)\n\u001b[0m\u001b[1;32m    756\u001b[0m     \u001b[0;32mif\u001b[0m \u001b[0mmulti_output\u001b[0m\u001b[0;34m:\u001b[0m\u001b[0;34m\u001b[0m\u001b[0;34m\u001b[0m\u001b[0m\n\u001b[1;32m    757\u001b[0m         y = check_array(y, 'csr', force_all_finite=True, ensure_2d=False,\n",
            "\u001b[0;32m/usr/local/lib/python3.6/dist-packages/sklearn/utils/validation.py\u001b[0m in \u001b[0;36mcheck_array\u001b[0;34m(array, accept_sparse, accept_large_sparse, dtype, order, copy, force_all_finite, ensure_2d, allow_nd, ensure_min_samples, ensure_min_features, warn_on_dtype, estimator)\u001b[0m\n\u001b[1;32m    529\u001b[0m                     \u001b[0marray\u001b[0m \u001b[0;34m=\u001b[0m \u001b[0marray\u001b[0m\u001b[0;34m.\u001b[0m\u001b[0mastype\u001b[0m\u001b[0;34m(\u001b[0m\u001b[0mdtype\u001b[0m\u001b[0;34m,\u001b[0m \u001b[0mcasting\u001b[0m\u001b[0;34m=\u001b[0m\u001b[0;34m\"unsafe\"\u001b[0m\u001b[0;34m,\u001b[0m \u001b[0mcopy\u001b[0m\u001b[0;34m=\u001b[0m\u001b[0;32mFalse\u001b[0m\u001b[0;34m)\u001b[0m\u001b[0;34m\u001b[0m\u001b[0;34m\u001b[0m\u001b[0m\n\u001b[1;32m    530\u001b[0m                 \u001b[0;32melse\u001b[0m\u001b[0;34m:\u001b[0m\u001b[0;34m\u001b[0m\u001b[0;34m\u001b[0m\u001b[0m\n\u001b[0;32m--> 531\u001b[0;31m                     \u001b[0marray\u001b[0m \u001b[0;34m=\u001b[0m \u001b[0mnp\u001b[0m\u001b[0;34m.\u001b[0m\u001b[0masarray\u001b[0m\u001b[0;34m(\u001b[0m\u001b[0marray\u001b[0m\u001b[0;34m,\u001b[0m \u001b[0morder\u001b[0m\u001b[0;34m=\u001b[0m\u001b[0morder\u001b[0m\u001b[0;34m,\u001b[0m \u001b[0mdtype\u001b[0m\u001b[0;34m=\u001b[0m\u001b[0mdtype\u001b[0m\u001b[0;34m)\u001b[0m\u001b[0;34m\u001b[0m\u001b[0;34m\u001b[0m\u001b[0m\n\u001b[0m\u001b[1;32m    532\u001b[0m             \u001b[0;32mexcept\u001b[0m \u001b[0mComplexWarning\u001b[0m\u001b[0;34m:\u001b[0m\u001b[0;34m\u001b[0m\u001b[0;34m\u001b[0m\u001b[0m\n\u001b[1;32m    533\u001b[0m                 raise ValueError(\"Complex data not supported\\n\"\n",
            "\u001b[0;32m/usr/local/lib/python3.6/dist-packages/numpy/core/_asarray.py\u001b[0m in \u001b[0;36masarray\u001b[0;34m(a, dtype, order)\u001b[0m\n\u001b[1;32m     83\u001b[0m \u001b[0;34m\u001b[0m\u001b[0m\n\u001b[1;32m     84\u001b[0m     \"\"\"\n\u001b[0;32m---> 85\u001b[0;31m     \u001b[0;32mreturn\u001b[0m \u001b[0marray\u001b[0m\u001b[0;34m(\u001b[0m\u001b[0ma\u001b[0m\u001b[0;34m,\u001b[0m \u001b[0mdtype\u001b[0m\u001b[0;34m,\u001b[0m \u001b[0mcopy\u001b[0m\u001b[0;34m=\u001b[0m\u001b[0;32mFalse\u001b[0m\u001b[0;34m,\u001b[0m \u001b[0morder\u001b[0m\u001b[0;34m=\u001b[0m\u001b[0morder\u001b[0m\u001b[0;34m)\u001b[0m\u001b[0;34m\u001b[0m\u001b[0;34m\u001b[0m\u001b[0m\n\u001b[0m\u001b[1;32m     86\u001b[0m \u001b[0;34m\u001b[0m\u001b[0m\n\u001b[1;32m     87\u001b[0m \u001b[0;34m\u001b[0m\u001b[0m\n",
            "\u001b[0;31mValueError\u001b[0m: could not convert string to float: 'INDIVIDUAL'"
          ]
        }
      ]
    },
    {
      "cell_type": "code",
      "metadata": {
        "id": "wqiB-k71F76B",
        "colab_type": "code",
        "colab": {
          "base_uri": "https://localhost:8080/",
          "height": 352
        },
        "outputId": "95c14208-ff1f-4053-bcba-af75ec1cbecc"
      },
      "source": [
        "# Random Forest\n",
        "rfc=RandomForestClassifier(n_estimators=150,max_depth=14,max_leaf_nodes= None, \n",
        "                           min_impurity_decrease= 1e-05, min_samples_leaf= 100,\n",
        "                           class_weight='balanced',n_jobs=-1,random_state=51)\n",
        "rfc.fit(X_train,y_train)"
      ],
      "execution_count": null,
      "outputs": [
        {
          "output_type": "error",
          "ename": "ValueError",
          "evalue": "ignored",
          "traceback": [
            "\u001b[0;31m---------------------------------------------------------------------------\u001b[0m",
            "\u001b[0;31mValueError\u001b[0m                                Traceback (most recent call last)",
            "\u001b[0;32m<ipython-input-114-c4e545be9e10>\u001b[0m in \u001b[0;36m<module>\u001b[0;34m()\u001b[0m\n\u001b[1;32m      3\u001b[0m                            \u001b[0mmin_impurity_decrease\u001b[0m\u001b[0;34m=\u001b[0m \u001b[0;36m1e-05\u001b[0m\u001b[0;34m,\u001b[0m \u001b[0mmin_samples_leaf\u001b[0m\u001b[0;34m=\u001b[0m \u001b[0;36m100\u001b[0m\u001b[0;34m,\u001b[0m\u001b[0;34m\u001b[0m\u001b[0;34m\u001b[0m\u001b[0m\n\u001b[1;32m      4\u001b[0m                            class_weight='balanced',n_jobs=-1,random_state=51)\n\u001b[0;32m----> 5\u001b[0;31m \u001b[0mrfc\u001b[0m\u001b[0;34m.\u001b[0m\u001b[0mfit\u001b[0m\u001b[0;34m(\u001b[0m\u001b[0mX_train\u001b[0m\u001b[0;34m,\u001b[0m\u001b[0my_train\u001b[0m\u001b[0;34m)\u001b[0m\u001b[0;34m\u001b[0m\u001b[0;34m\u001b[0m\u001b[0m\n\u001b[0m",
            "\u001b[0;32m/usr/local/lib/python3.6/dist-packages/sklearn/ensemble/_forest.py\u001b[0m in \u001b[0;36mfit\u001b[0;34m(self, X, y, sample_weight)\u001b[0m\n\u001b[1;32m    293\u001b[0m         \"\"\"\n\u001b[1;32m    294\u001b[0m         \u001b[0;31m# Validate or convert input data\u001b[0m\u001b[0;34m\u001b[0m\u001b[0;34m\u001b[0m\u001b[0;34m\u001b[0m\u001b[0m\n\u001b[0;32m--> 295\u001b[0;31m         \u001b[0mX\u001b[0m \u001b[0;34m=\u001b[0m \u001b[0mcheck_array\u001b[0m\u001b[0;34m(\u001b[0m\u001b[0mX\u001b[0m\u001b[0;34m,\u001b[0m \u001b[0maccept_sparse\u001b[0m\u001b[0;34m=\u001b[0m\u001b[0;34m\"csc\"\u001b[0m\u001b[0;34m,\u001b[0m \u001b[0mdtype\u001b[0m\u001b[0;34m=\u001b[0m\u001b[0mDTYPE\u001b[0m\u001b[0;34m)\u001b[0m\u001b[0;34m\u001b[0m\u001b[0;34m\u001b[0m\u001b[0m\n\u001b[0m\u001b[1;32m    296\u001b[0m         \u001b[0my\u001b[0m \u001b[0;34m=\u001b[0m \u001b[0mcheck_array\u001b[0m\u001b[0;34m(\u001b[0m\u001b[0my\u001b[0m\u001b[0;34m,\u001b[0m \u001b[0maccept_sparse\u001b[0m\u001b[0;34m=\u001b[0m\u001b[0;34m'csc'\u001b[0m\u001b[0;34m,\u001b[0m \u001b[0mensure_2d\u001b[0m\u001b[0;34m=\u001b[0m\u001b[0;32mFalse\u001b[0m\u001b[0;34m,\u001b[0m \u001b[0mdtype\u001b[0m\u001b[0;34m=\u001b[0m\u001b[0;32mNone\u001b[0m\u001b[0;34m)\u001b[0m\u001b[0;34m\u001b[0m\u001b[0;34m\u001b[0m\u001b[0m\n\u001b[1;32m    297\u001b[0m         \u001b[0;32mif\u001b[0m \u001b[0msample_weight\u001b[0m \u001b[0;32mis\u001b[0m \u001b[0;32mnot\u001b[0m \u001b[0;32mNone\u001b[0m\u001b[0;34m:\u001b[0m\u001b[0;34m\u001b[0m\u001b[0;34m\u001b[0m\u001b[0m\n",
            "\u001b[0;32m/usr/local/lib/python3.6/dist-packages/sklearn/utils/validation.py\u001b[0m in \u001b[0;36mcheck_array\u001b[0;34m(array, accept_sparse, accept_large_sparse, dtype, order, copy, force_all_finite, ensure_2d, allow_nd, ensure_min_samples, ensure_min_features, warn_on_dtype, estimator)\u001b[0m\n\u001b[1;32m    529\u001b[0m                     \u001b[0marray\u001b[0m \u001b[0;34m=\u001b[0m \u001b[0marray\u001b[0m\u001b[0;34m.\u001b[0m\u001b[0mastype\u001b[0m\u001b[0;34m(\u001b[0m\u001b[0mdtype\u001b[0m\u001b[0;34m,\u001b[0m \u001b[0mcasting\u001b[0m\u001b[0;34m=\u001b[0m\u001b[0;34m\"unsafe\"\u001b[0m\u001b[0;34m,\u001b[0m \u001b[0mcopy\u001b[0m\u001b[0;34m=\u001b[0m\u001b[0;32mFalse\u001b[0m\u001b[0;34m)\u001b[0m\u001b[0;34m\u001b[0m\u001b[0;34m\u001b[0m\u001b[0m\n\u001b[1;32m    530\u001b[0m                 \u001b[0;32melse\u001b[0m\u001b[0;34m:\u001b[0m\u001b[0;34m\u001b[0m\u001b[0;34m\u001b[0m\u001b[0m\n\u001b[0;32m--> 531\u001b[0;31m                     \u001b[0marray\u001b[0m \u001b[0;34m=\u001b[0m \u001b[0mnp\u001b[0m\u001b[0;34m.\u001b[0m\u001b[0masarray\u001b[0m\u001b[0;34m(\u001b[0m\u001b[0marray\u001b[0m\u001b[0;34m,\u001b[0m \u001b[0morder\u001b[0m\u001b[0;34m=\u001b[0m\u001b[0morder\u001b[0m\u001b[0;34m,\u001b[0m \u001b[0mdtype\u001b[0m\u001b[0;34m=\u001b[0m\u001b[0mdtype\u001b[0m\u001b[0;34m)\u001b[0m\u001b[0;34m\u001b[0m\u001b[0;34m\u001b[0m\u001b[0m\n\u001b[0m\u001b[1;32m    532\u001b[0m             \u001b[0;32mexcept\u001b[0m \u001b[0mComplexWarning\u001b[0m\u001b[0;34m:\u001b[0m\u001b[0;34m\u001b[0m\u001b[0;34m\u001b[0m\u001b[0m\n\u001b[1;32m    533\u001b[0m                 raise ValueError(\"Complex data not supported\\n\"\n",
            "\u001b[0;32m/usr/local/lib/python3.6/dist-packages/numpy/core/_asarray.py\u001b[0m in \u001b[0;36masarray\u001b[0;34m(a, dtype, order)\u001b[0m\n\u001b[1;32m     83\u001b[0m \u001b[0;34m\u001b[0m\u001b[0m\n\u001b[1;32m     84\u001b[0m     \"\"\"\n\u001b[0;32m---> 85\u001b[0;31m     \u001b[0;32mreturn\u001b[0m \u001b[0marray\u001b[0m\u001b[0;34m(\u001b[0m\u001b[0ma\u001b[0m\u001b[0;34m,\u001b[0m \u001b[0mdtype\u001b[0m\u001b[0;34m,\u001b[0m \u001b[0mcopy\u001b[0m\u001b[0;34m=\u001b[0m\u001b[0;32mFalse\u001b[0m\u001b[0;34m,\u001b[0m \u001b[0morder\u001b[0m\u001b[0;34m=\u001b[0m\u001b[0morder\u001b[0m\u001b[0;34m)\u001b[0m\u001b[0;34m\u001b[0m\u001b[0;34m\u001b[0m\u001b[0m\n\u001b[0m\u001b[1;32m     86\u001b[0m \u001b[0;34m\u001b[0m\u001b[0m\n\u001b[1;32m     87\u001b[0m \u001b[0;34m\u001b[0m\u001b[0m\n",
            "\u001b[0;31mValueError\u001b[0m: could not convert string to float: ' 36 months'"
          ]
        }
      ]
    },
    {
      "cell_type": "code",
      "metadata": {
        "id": "fnnhu13NF-RH",
        "colab_type": "code",
        "colab": {}
      },
      "source": [
        "# LGBM\n",
        "lgb=LGBMClassifier(random_state=51, class_weight= {0: 1, 1: 4}, colsample_bytree=1, max_depth=7,\n",
        " min_child_samples=20, min_split_gain=0, n_estimators=100, reg_alpha=13)\n",
        "lgb.fit(X_train,y_train)\n"
      ],
      "execution_count": null,
      "outputs": []
    },
    {
      "cell_type": "code",
      "metadata": {
        "id": "t5oHq7JsGCJi",
        "colab_type": "code",
        "colab": {}
      },
      "source": [
        ""
      ],
      "execution_count": null,
      "outputs": []
    },
    {
      "cell_type": "markdown",
      "metadata": {
        "id": "7kZY3YmKGCeJ",
        "colab_type": "text"
      },
      "source": [
        "# Predicting on test data (**cannot procedd due to previous ERRORS :(**  )\n"
      ]
    },
    {
      "cell_type": "code",
      "metadata": {
        "id": "BB5-dupyGJim",
        "colab_type": "code",
        "colab": {
          "base_uri": "https://localhost:8080/",
          "height": 239
        },
        "outputId": "358917c0-20cf-4a98-a00e-044ea4aa250b"
      },
      "source": [
        "# Preprocessing Test Data\n",
        "X_test_1=X_test.copy()\n",
        "X_test=pipeline.transform(X_test)\n",
        "X_test[features_to_scale]=scaler.transform(X_test[features_to_scale])\n",
        "\n",
        "# Linear Regression\n",
        "y_test_pred_lr=lr.predict(X_test)\n",
        "\n",
        "# Random Forest\n",
        "y_test_pred_rfc=rfc.predict(X_test)\n",
        "\n",
        "# LightGBM\n",
        "y_test_pred_lgb=lgb.predict(X_test)"
      ],
      "execution_count": null,
      "outputs": [
        {
          "output_type": "error",
          "ename": "NameError",
          "evalue": "ignored",
          "traceback": [
            "\u001b[0;31m---------------------------------------------------------------------------\u001b[0m",
            "\u001b[0;31mNameError\u001b[0m                                 Traceback (most recent call last)",
            "\u001b[0;32m<ipython-input-142-8172d9d8507b>\u001b[0m in \u001b[0;36m<module>\u001b[0;34m()\u001b[0m\n\u001b[1;32m      1\u001b[0m \u001b[0;31m# Preprocessing Test Data\u001b[0m\u001b[0;34m\u001b[0m\u001b[0;34m\u001b[0m\u001b[0;34m\u001b[0m\u001b[0m\n\u001b[1;32m      2\u001b[0m \u001b[0mX_test_1\u001b[0m\u001b[0;34m=\u001b[0m\u001b[0mX_test\u001b[0m\u001b[0;34m.\u001b[0m\u001b[0mcopy\u001b[0m\u001b[0;34m(\u001b[0m\u001b[0;34m)\u001b[0m\u001b[0;34m\u001b[0m\u001b[0;34m\u001b[0m\u001b[0m\n\u001b[0;32m----> 3\u001b[0;31m \u001b[0mX_test\u001b[0m\u001b[0;34m=\u001b[0m\u001b[0mpipeline\u001b[0m\u001b[0;34m.\u001b[0m\u001b[0mtransform\u001b[0m\u001b[0;34m(\u001b[0m\u001b[0mX_test\u001b[0m\u001b[0;34m)\u001b[0m\u001b[0;34m\u001b[0m\u001b[0;34m\u001b[0m\u001b[0m\n\u001b[0m\u001b[1;32m      4\u001b[0m \u001b[0mX_test\u001b[0m\u001b[0;34m[\u001b[0m\u001b[0mfeatures_to_scale\u001b[0m\u001b[0;34m]\u001b[0m\u001b[0;34m=\u001b[0m\u001b[0mscaler\u001b[0m\u001b[0;34m.\u001b[0m\u001b[0mtransform\u001b[0m\u001b[0;34m(\u001b[0m\u001b[0mX_test\u001b[0m\u001b[0;34m[\u001b[0m\u001b[0mfeatures_to_scale\u001b[0m\u001b[0;34m]\u001b[0m\u001b[0;34m)\u001b[0m\u001b[0;34m\u001b[0m\u001b[0;34m\u001b[0m\u001b[0m\n\u001b[1;32m      5\u001b[0m \u001b[0;34m\u001b[0m\u001b[0m\n",
            "\u001b[0;31mNameError\u001b[0m: name 'pipeline' is not defined"
          ]
        }
      ]
    }
  ]
}